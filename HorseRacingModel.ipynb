{
  "nbformat": 4,
  "nbformat_minor": 0,
  "metadata": {
    "colab": {
      "name": "LabQ.ipynb",
      "provenance": []
    },
    "kernelspec": {
      "name": "python3",
      "display_name": "Python 3"
    },
    "language_info": {
      "name": "python"
    }
  },
  "cells": [
    {
      "cell_type": "code",
      "source": [
        "\n",
        "%%capture\n",
        "import sys\n",
        "\n",
        "if 'google.colab' in sys.modules:\n",
        "    # Install packages in Colab\n",
        "    !pip install category_encoders==2.*\n",
        "    !pip install eli5\n",
        "    !pip install pandas-profiling==2.*\n",
        "    !pip install pdpbox\n",
        "    !pip install shap"
      ],
      "metadata": {
        "id": "Vd0rU1k5acbf"
      },
      "execution_count": 232,
      "outputs": []
    },
    {
      "cell_type": "code",
      "source": [
        "!pip install eli5\n",
        "!pip install -U scikit-learn\n",
        "from pandas_profiling import ProfileReport\n",
        "from category_encoders import OneHotEncoder\n",
        "from category_encoders import TargetEncoder\n",
        "from category_encoders import OrdinalEncoder\n",
        "\n",
        "from sklearn.pipeline import Pipeline #make_pipeline과의 차이를 알아둘 것\n",
        "from sklearn.pipeline import make_pipeline\n",
        "from sklearn.metrics import r2_score\n",
        "from sklearn.linear_model import RidgeCV\n",
        "from sklearn.linear_model import Ridge\n",
        "from sklearn.metrics import mean_absolute_error, r2_score\n",
        "from sklearn.linear_model import LinearRegression\n",
        "from sklearn.linear_model import LogisticRegression\n",
        "from sklearn.model_selection import train_test_split\n",
        "from sklearn.impute import SimpleImputer\n",
        "from sklearn.ensemble import RandomForestRegressor\n",
        "from sklearn.tree import DecisionTreeClassifier\n",
        "from sklearn.compose import TransformedTargetRegressor\n",
        "from sklearn.ensemble import RandomForestClassifier\n",
        "from sklearn.metrics import accuracy_score\n",
        "from sklearn.model_selection import cross_val_score\n",
        "from sklearn.model_selection import RandomizedSearchCV\n",
        "from sklearn.preprocessing import StandardScaler\n",
        "#from sklearn.preprocessing import OrdinalEncoder #float type을 제외한 다른 타입 전부 변환 *사용주의*\n",
        "from sklearn.feature_selection import f_regression, SelectKBest\n",
        "from scipy.stats import randint, uniform\n",
        "from sklearn.metrics import classification_report\n",
        "\n",
        "import eli5\n",
        "from eli5.sklearn import PermutationImportance"
      ],
      "metadata": {
        "colab": {
          "base_uri": "https://localhost:8080/"
        },
        "id": "DPwANObQfYOu",
        "outputId": "67c218ff-fcd5-4869-f673-23ac2c9e51ee"
      },
      "execution_count": 233,
      "outputs": [
        {
          "output_type": "stream",
          "name": "stdout",
          "text": [
            "Requirement already satisfied: eli5 in /usr/local/lib/python3.7/dist-packages (0.11.0)\n",
            "Requirement already satisfied: graphviz in /usr/local/lib/python3.7/dist-packages (from eli5) (0.10.1)\n",
            "Requirement already satisfied: scikit-learn>=0.20 in /usr/local/lib/python3.7/dist-packages (from eli5) (1.0.2)\n",
            "Requirement already satisfied: numpy>=1.9.0 in /usr/local/lib/python3.7/dist-packages (from eli5) (1.21.6)\n",
            "Requirement already satisfied: jinja2 in /usr/local/lib/python3.7/dist-packages (from eli5) (2.11.3)\n",
            "Requirement already satisfied: attrs>16.0.0 in /usr/local/lib/python3.7/dist-packages (from eli5) (21.4.0)\n",
            "Requirement already satisfied: six in /usr/local/lib/python3.7/dist-packages (from eli5) (1.15.0)\n",
            "Requirement already satisfied: tabulate>=0.7.7 in /usr/local/lib/python3.7/dist-packages (from eli5) (0.8.9)\n",
            "Requirement already satisfied: scipy in /usr/local/lib/python3.7/dist-packages (from eli5) (1.7.3)\n",
            "Requirement already satisfied: joblib>=0.11 in /usr/local/lib/python3.7/dist-packages (from scikit-learn>=0.20->eli5) (1.1.0)\n",
            "Requirement already satisfied: threadpoolctl>=2.0.0 in /usr/local/lib/python3.7/dist-packages (from scikit-learn>=0.20->eli5) (3.1.0)\n",
            "Requirement already satisfied: MarkupSafe>=0.23 in /usr/local/lib/python3.7/dist-packages (from jinja2->eli5) (2.0.1)\n",
            "Requirement already satisfied: scikit-learn in /usr/local/lib/python3.7/dist-packages (1.0.2)\n",
            "Requirement already satisfied: threadpoolctl>=2.0.0 in /usr/local/lib/python3.7/dist-packages (from scikit-learn) (3.1.0)\n",
            "Requirement already satisfied: joblib>=0.11 in /usr/local/lib/python3.7/dist-packages (from scikit-learn) (1.1.0)\n",
            "Requirement already satisfied: numpy>=1.14.6 in /usr/local/lib/python3.7/dist-packages (from scikit-learn) (1.21.6)\n",
            "Requirement already satisfied: scipy>=1.1.0 in /usr/local/lib/python3.7/dist-packages (from scikit-learn) (1.7.3)\n"
          ]
        }
      ]
    },
    {
      "cell_type": "code",
      "source": [
        "from scipy import stats\n",
        "import matplotlib as mpl\n",
        "import matplotlib.font_manager\n",
        "import matplotlib.pyplot as plt\n",
        "import seaborn as sns\n",
        "import pandas as pd\n",
        "import numpy as np\n",
        "import missingno as msno\n",
        "%matplotlib inline"
      ],
      "metadata": {
        "id": "MdKpiPGx8Dqy"
      },
      "execution_count": 234,
      "outputs": []
    },
    {
      "cell_type": "code",
      "execution_count": 235,
      "metadata": {
        "colab": {
          "base_uri": "https://localhost:8080/"
        },
        "id": "svG1WGX57SjN",
        "outputId": "62192b67-7a8b-4a60-8392-41cbfd164b7e"
      },
      "outputs": [
        {
          "output_type": "stream",
          "name": "stdout",
          "text": [
            "Drive already mounted at /content/drive; to attempt to forcibly remount, call drive.mount(\"/content/drive\", force_remount=True).\n"
          ]
        }
      ],
      "source": [
        "from google.colab import drive\n",
        "drive.mount('/content/drive')"
      ]
    },
    {
      "cell_type": "code",
      "source": [
        "\n",
        "train_url = '/content/train.csv'\n",
        "\n",
        "\n",
        "# train 데이터셋을 불러옵니다\n",
        "df = pd.read_csv(train_url)"
      ],
      "metadata": {
        "id": "OE7Aq3oI79DE"
      },
      "execution_count": 236,
      "outputs": []
    },
    {
      "cell_type": "code",
      "source": [
        "df.info()\n"
      ],
      "metadata": {
        "colab": {
          "base_uri": "https://localhost:8080/"
        },
        "id": "xGcOPrSz8JSv",
        "outputId": "5f8bf2fc-a14c-42f6-a681-0d0fa10296e0"
      },
      "execution_count": 237,
      "outputs": [
        {
          "output_type": "stream",
          "name": "stdout",
          "text": [
            "<class 'pandas.core.frame.DataFrame'>\n",
            "RangeIndex: 7064 entries, 0 to 7063\n",
            "Data columns (total 35 columns):\n",
            " #   Column      Non-Null Count  Dtype  \n",
            "---  ------      --------------  -----  \n",
            " 0   rcDate      7064 non-null   int64  \n",
            " 1   rcNo        7064 non-null   int64  \n",
            " 2   chulNo      7064 non-null   int64  \n",
            " 3   hrNo        7064 non-null   int64  \n",
            " 4   age         7064 non-null   int64  \n",
            " 5   ageCond     7064 non-null   object \n",
            " 6   budam       7064 non-null   object \n",
            " 7   chaksunT    7064 non-null   int64  \n",
            " 8   chaksunY    7064 non-null   int64  \n",
            " 9   chaksun_6m  7064 non-null   int64  \n",
            " 10  dusu        7064 non-null   int64  \n",
            " 11  ilsu        7064 non-null   int64  \n",
            " 12  ord1CntT    7064 non-null   int64  \n",
            " 13  ord1CntY    7064 non-null   int64  \n",
            " 14  ord2CntT    7064 non-null   int64  \n",
            " 15  ord2CntY    7064 non-null   int64  \n",
            " 16  ord3CntT    7064 non-null   int64  \n",
            " 17  ord3CntY    7064 non-null   int64  \n",
            " 18  prd         7064 non-null   object \n",
            " 19  prizeCond   7064 non-null   object \n",
            " 20  rank        7064 non-null   object \n",
            " 21  rating      7064 non-null   object \n",
            " 22  rcCntT      7064 non-null   int64  \n",
            " 23  rcCntY      7064 non-null   int64  \n",
            " 24  rcDist      7064 non-null   int64  \n",
            " 25  sex         7064 non-null   object \n",
            " 26  wgBudam     7064 non-null   float64\n",
            " 27  track       7064 non-null   object \n",
            " 28  weather     7064 non-null   object \n",
            " 29  waterRate   7064 non-null   int64  \n",
            " 30  ord         7064 non-null   int64  \n",
            " 31  rcTime      7064 non-null   float64\n",
            " 32  jkNo        7064 non-null   int64  \n",
            " 33  trNo        7064 non-null   int64  \n",
            " 34  owNo        7064 non-null   int64  \n",
            "dtypes: float64(2), int64(24), object(9)\n",
            "memory usage: 1.9+ MB\n"
          ]
        }
      ]
    },
    {
      "cell_type": "code",
      "source": [
        "sns.set(style='darkgrid')\n",
        "plt.rcParams[\"font.family\"] = 'Malgun Gothic'\n",
        "plt.figure(figsize=(10,6))\n",
        "sns.countplot(data=df, x='wgBudam', palette=sns.color_palette(\"Blues_r\"),\n",
        "              order = df['wgBudam'].value_counts().index)"
      ],
      "metadata": {
        "colab": {
          "base_uri": "https://localhost:8080/",
          "height": 412
        },
        "id": "llhA5k30N39J",
        "outputId": "92dbb082-a470-4f43-cc4e-f47b804654fb"
      },
      "execution_count": 238,
      "outputs": [
        {
          "output_type": "execute_result",
          "data": {
            "text/plain": [
              "<matplotlib.axes._subplots.AxesSubplot at 0x7febb8d4c910>"
            ]
          },
          "metadata": {},
          "execution_count": 238
        },
        {
          "output_type": "display_data",
          "data": {
            "text/plain": [
              "<Figure size 720x432 with 1 Axes>"
            ],
            "image/png": "[encoded data removed]"
          },
          "metadata": {}
        }
      ]
    },
    {
      "cell_type": "code",
      "source": [
        "for i in df.columns:\n",
        "    print(i, df[i].isnull().sum().sum())\n",
        "    #결측지 확인"
      ],
      "metadata": {
        "colab": {
          "base_uri": "https://localhost:8080/"
        },
        "id": "k6mKCPFDXvjh",
        "outputId": "7ebc8451-fcae-41e9-dfa0-3a81e0d08d5c"
      },
      "execution_count": 239,
      "outputs": [
        {
          "output_type": "stream",
          "name": "stdout",
          "text": [
            "rcDate 0\n",
            "rcNo 0\n",
            "chulNo 0\n",
            "hrNo 0\n",
            "age 0\n",
            "ageCond 0\n",
            "budam 0\n",
            "chaksunT 0\n",
            "chaksunY 0\n",
            "chaksun_6m 0\n",
            "dusu 0\n",
            "ilsu 0\n",
            "ord1CntT 0\n",
            "ord1CntY 0\n",
            "ord2CntT 0\n",
            "ord2CntY 0\n",
            "ord3CntT 0\n",
            "ord3CntY 0\n",
            "prd 0\n",
            "prizeCond 0\n",
            "rank 0\n",
            "rating 0\n",
            "rcCntT 0\n",
            "rcCntY 0\n",
            "rcDist 0\n",
            "sex 0\n",
            "wgBudam 0\n",
            "track 0\n",
            "weather 0\n",
            "waterRate 0\n",
            "ord 0\n",
            "rcTime 0\n",
            "jkNo 0\n",
            "trNo 0\n",
            "owNo 0\n"
          ]
        }
      ]
    },
    {
      "cell_type": "code",
      "source": [
        "bar, ax = plt.subplots(figsize = (12,12))\n",
        "plt.pie(df['ord'].value_counts(), labels = df['ord'].value_counts().index, autopct=\"%.1f%%\")\n",
        "plt.title('Distribution of ord', size=20);\n",
        "#타겟 분포도 확인 / "
      ],
      "metadata": {
        "colab": {
          "base_uri": "https://localhost:8080/",
          "height": 704
        },
        "id": "FQ2FpcqeX4lZ",
        "outputId": "a07686ef-6144-4e14-833f-a128ac30dea1"
      },
      "execution_count": 240,
      "outputs": [
        {
          "output_type": "display_data",
          "data": {
            "text/plain": [
              "<Figure size 864x864 with 1 Axes>"
            ],
            "image/png": "[encoded data removed]"
          },
          "metadata": {}
        }
      ]
    },
    {
      "cell_type": "code",
      "source": [
        "df_p = df.pivot_table(index=\"ord\", columns=\"rank\", aggfunc='size')\n",
        "df_p=df_p.fillna(0)\n",
        "plt.figure(figsize = (20,10))\n",
        "sns.heatmap(df_p, cmap = 'Blues', annot = True, fmt = '.0f');\n",
        "#마 등급과 등수와의 상관관계 히트맵으로 확인"
      ],
      "metadata": {
        "colab": {
          "base_uri": "https://localhost:8080/",
          "height": 905
        },
        "id": "u0y-DsVUO9HX",
        "outputId": "851b7f8a-de26-46fd-b910-f05b84420580"
      },
      "execution_count": 241,
      "outputs": [
        {
          "output_type": "stream",
          "name": "stderr",
          "text": [
            "/usr/local/lib/python3.7/dist-packages/matplotlib/backends/backend_agg.py:214: RuntimeWarning: Glyph 46321 missing from current font.\n",
            "  w /= 64.0  # convert from subpixels\n",
            "/usr/local/lib/python3.7/dist-packages/matplotlib/backends/backend_agg.py:214: RuntimeWarning: Glyph 44553 missing from current font.\n",
            "  w /= 64.0  # convert from subpixels\n",
            "/usr/local/lib/python3.7/dist-packages/matplotlib/backends/backend_agg.py:214: RuntimeWarning: Glyph 44397 missing from current font.\n",
            "  w /= 64.0  # convert from subpixels\n",
            "/usr/local/lib/python3.7/dist-packages/matplotlib/backends/backend_agg.py:214: RuntimeWarning: Glyph 54844 missing from current font.\n",
            "  w /= 64.0  # convert from subpixels\n",
            "/usr/local/lib/python3.7/dist-packages/matplotlib/backends/backend_agg.py:183: RuntimeWarning: Glyph 46321 missing from current font.\n",
            "  # The descent needs to be adjusted for the angle.\n",
            "/usr/local/lib/python3.7/dist-packages/matplotlib/backends/backend_agg.py:183: RuntimeWarning: Glyph 44553 missing from current font.\n",
            "  # The descent needs to be adjusted for the angle.\n",
            "/usr/local/lib/python3.7/dist-packages/matplotlib/backends/backend_agg.py:183: RuntimeWarning: Glyph 44397 missing from current font.\n",
            "  # The descent needs to be adjusted for the angle.\n",
            "/usr/local/lib/python3.7/dist-packages/matplotlib/backends/backend_agg.py:183: RuntimeWarning: Glyph 54844 missing from current font.\n",
            "  # The descent needs to be adjusted for the angle.\n"
          ]
        },
        {
          "output_type": "display_data",
          "data": {
            "text/plain": [
              "<Figure size 1440x720 with 2 Axes>"
            ],
            "image/png": "[encoded data removed]"
          },
          "metadata": {}
        }
      ]
    },
    {
      "cell_type": "code",
      "source": [
        "df['chulNo'].unique()"
      ],
      "metadata": {
        "colab": {
          "base_uri": "https://localhost:8080/"
        },
        "id": "3XPGYA1spzok",
        "outputId": "5f4379e0-ed19-424a-9500-8857ab35825a"
      },
      "execution_count": 242,
      "outputs": [
        {
          "output_type": "execute_result",
          "data": {
            "text/plain": [
              "array([ 1,  2,  3,  4,  5,  6,  7,  8,  9, 10, 11, 12, 13, 14, 15, 16])"
            ]
          },
          "metadata": {},
          "execution_count": 242
        }
      ]
    },
    {
      "cell_type": "code",
      "source": [
        "col1 = df.columns[30:31].to_list()\n",
        "col2 = df.columns[:30].to_list()\n",
        "col3 = df.columns[31:].to_list()\n",
        "new_col = col1 + col2 + col3\n",
        "df = df[new_col]"
      ],
      "metadata": {
        "id": "KQxjLgnZvCW-"
      },
      "execution_count": 243,
      "outputs": []
    },
    {
      "cell_type": "code",
      "source": [
        "#1 등 2 등 말들을 1 로, 나머지 하위 등수 말들을 0으로 맵핑해주었다. 이와 같이 Target 값을 설정한 이유는 복수승 말인 1 등과 2 등(순서와는 상관없이)말들을 예측하기 위함.\n",
        "for i in range(len(df)):\n",
        "  if df.iloc[i, 0] < 3:\n",
        "    df.iloc[i, 0] = 1\n",
        "  else:\n",
        "    df.iloc[i,0] = 0"
      ],
      "metadata": {
        "id": "3e-wLjhcJLC_"
      },
      "execution_count": 244,
      "outputs": []
    },
    {
      "cell_type": "code",
      "source": [
        "df['ord'].unique()"
      ],
      "metadata": {
        "colab": {
          "base_uri": "https://localhost:8080/"
        },
        "id": "RE7tsVPOm3_n",
        "outputId": "53858e06-9113-4e9b-c018-f7f7b993d634"
      },
      "execution_count": 245,
      "outputs": [
        {
          "output_type": "execute_result",
          "data": {
            "text/plain": [
              "array([0, 1])"
            ]
          },
          "metadata": {},
          "execution_count": 245
        }
      ]
    },
    {
      "cell_type": "code",
      "source": [
        "df.nunique()"
      ],
      "metadata": {
        "colab": {
          "base_uri": "https://localhost:8080/"
        },
        "id": "ZfN7Wsw9-Oan",
        "outputId": "0c6ccfee-68c8-4e55-be86-129500e1ae06"
      },
      "execution_count": 246,
      "outputs": [
        {
          "output_type": "execute_result",
          "data": {
            "text/plain": [
              "ord              2\n",
              "rcDate          85\n",
              "rcNo            15\n",
              "chulNo          16\n",
              "hrNo          1397\n",
              "age             10\n",
              "ageCond          5\n",
              "budam            3\n",
              "chaksunT      2445\n",
              "chaksunY      2100\n",
              "chaksun_6m    1515\n",
              "dusu             9\n",
              "ilsu            85\n",
              "ord1CntT        13\n",
              "ord1CntY         8\n",
              "ord2CntT        11\n",
              "ord2CntY         7\n",
              "ord3CntT        12\n",
              "ord3CntY         7\n",
              "prd              5\n",
              "prizeCond        7\n",
              "rank            10\n",
              "rating         113\n",
              "rcCntT          93\n",
              "rcCntY          19\n",
              "rcDist           7\n",
              "sex              3\n",
              "wgBudam         21\n",
              "track            5\n",
              "weather          3\n",
              "waterRate       16\n",
              "rcTime         594\n",
              "jkNo            57\n",
              "trNo            52\n",
              "owNo           291\n",
              "dtype: int64"
            ]
          },
          "metadata": {},
          "execution_count": 246
        }
      ]
    },
    {
      "cell_type": "code",
      "source": [
        "df['rcCntT'].value_counts()"
      ],
      "metadata": {
        "colab": {
          "base_uri": "https://localhost:8080/"
        },
        "id": "ftOs7TtPCu-V",
        "outputId": "8445bf92-ab69-40b3-a159-5f478f40499d"
      },
      "execution_count": 247,
      "outputs": [
        {
          "output_type": "execute_result",
          "data": {
            "text/plain": [
              "0      465\n",
              "1      451\n",
              "2      439\n",
              "3      436\n",
              "4      392\n",
              "      ... \n",
              "115      1\n",
              "109      1\n",
              "118      1\n",
              "117      1\n",
              "86       1\n",
              "Name: rcCntT, Length: 93, dtype: int64"
            ]
          },
          "metadata": {},
          "execution_count": 247
        }
      ]
    },
    {
      "cell_type": "code",
      "source": [
        "sns.violinplot(df.rcCntT,color='orange');"
      ],
      "metadata": {
        "colab": {
          "base_uri": "https://localhost:8080/",
          "height": 342
        },
        "id": "irz7SXGGHsCp",
        "outputId": "017284b0-4bc0-46b7-984a-54d04b0852d2"
      },
      "execution_count": 248,
      "outputs": [
        {
          "output_type": "stream",
          "name": "stderr",
          "text": [
            "/usr/local/lib/python3.7/dist-packages/seaborn/_decorators.py:43: FutureWarning: Pass the following variable as a keyword arg: x. From version 0.12, the only valid positional argument will be `data`, and passing other arguments without an explicit keyword will result in an error or misinterpretation.\n",
            "  FutureWarning\n"
          ]
        },
        {
          "output_type": "display_data",
          "data": {
            "text/plain": [
              "<Figure size 432x288 with 1 Axes>"
            ],
            "image/png": "[encoded data removed]"
          },
          "metadata": {}
        }
      ]
    },
    {
      "cell_type": "code",
      "source": [
        "df = df.loc[df['rcCntT'] < 60] # 이상치 제거"
      ],
      "metadata": {
        "id": "rJoHPv0YIF9V"
      },
      "execution_count": 249,
      "outputs": []
    },
    {
      "cell_type": "code",
      "source": [
        "len(df['rcCntT'].unique())"
      ],
      "metadata": {
        "colab": {
          "base_uri": "https://localhost:8080/"
        },
        "id": "jn-pcRsuImx1",
        "outputId": "9c3fc264-c493-4b62-c090-c925d73d75a7"
      },
      "execution_count": 250,
      "outputs": [
        {
          "output_type": "execute_result",
          "data": {
            "text/plain": [
              "59"
            ]
          },
          "metadata": {},
          "execution_count": 250
        }
      ]
    },
    {
      "cell_type": "code",
      "source": [
        "df['rating'].value_counts() # 일반적으로 1 ~ 140"
      ],
      "metadata": {
        "colab": {
          "base_uri": "https://localhost:8080/"
        },
        "id": "IjGkbfs6JPle",
        "outputId": "df057a0f-1cb4-4130-f515-b6e1cf4c1716"
      },
      "execution_count": 251,
      "outputs": [
        {
          "output_type": "execute_result",
          "data": {
            "text/plain": [
              "-      2489\n",
              "36      280\n",
              "31      224\n",
              "30      190\n",
              "38      189\n",
              "       ... \n",
              "132       1\n",
              "130       1\n",
              "96        1\n",
              "106       1\n",
              "136       1\n",
              "Name: rating, Length: 113, dtype: int64"
            ]
          },
          "metadata": {},
          "execution_count": 251
        }
      ]
    },
    {
      "cell_type": "code",
      "source": [
        "df['rating'] = df['rating'].replace('-',0)"
      ],
      "metadata": {
        "colab": {
          "base_uri": "https://localhost:8080/"
        },
        "id": "QoupjkVBKIzp",
        "outputId": "617a268c-d096-4e0e-b9cf-f65dc3994931"
      },
      "execution_count": 252,
      "outputs": [
        {
          "output_type": "stream",
          "name": "stderr",
          "text": [
            "/usr/local/lib/python3.7/dist-packages/ipykernel_launcher.py:1: SettingWithCopyWarning: \n",
            "A value is trying to be set on a copy of a slice from a DataFrame.\n",
            "Try using .loc[row_indexer,col_indexer] = value instead\n",
            "\n",
            "See the caveats in the documentation: https://pandas.pydata.org/pandas-docs/stable/user_guide/indexing.html#returning-a-view-versus-a-copy\n",
            "  \"\"\"Entry point for launching an IPython kernel.\n"
          ]
        }
      ]
    },
    {
      "cell_type": "code",
      "source": [
        "df['rating'].value_counts() # 문자열 '-' 을 0으로 변경"
      ],
      "metadata": {
        "colab": {
          "base_uri": "https://localhost:8080/"
        },
        "id": "nq1XTCZqKQj0",
        "outputId": "47559d88-254c-43c8-b02b-96fb88cac8f4"
      },
      "execution_count": 253,
      "outputs": [
        {
          "output_type": "execute_result",
          "data": {
            "text/plain": [
              "0      2489\n",
              "36      280\n",
              "31      224\n",
              "30      190\n",
              "38      189\n",
              "       ... \n",
              "132       1\n",
              "130       1\n",
              "96        1\n",
              "106       1\n",
              "136       1\n",
              "Name: rating, Length: 113, dtype: int64"
            ]
          },
          "metadata": {},
          "execution_count": 253
        }
      ]
    },
    {
      "cell_type": "code",
      "source": [
        "df['rating'] = df['rating'].astype(int)"
      ],
      "metadata": {
        "id": "afJebI-iLo_n"
      },
      "execution_count": 254,
      "outputs": []
    },
    {
      "cell_type": "code",
      "source": [
        "sns.violinplot(df.rating,color='orange');"
      ],
      "metadata": {
        "colab": {
          "base_uri": "https://localhost:8080/",
          "height": 342
        },
        "id": "UzPdpTokJVJL",
        "outputId": "da3b47cb-bce3-4f23-c84d-fc78214a6afb"
      },
      "execution_count": 255,
      "outputs": [
        {
          "output_type": "stream",
          "name": "stderr",
          "text": [
            "/usr/local/lib/python3.7/dist-packages/seaborn/_decorators.py:43: FutureWarning: Pass the following variable as a keyword arg: x. From version 0.12, the only valid positional argument will be `data`, and passing other arguments without an explicit keyword will result in an error or misinterpretation.\n",
            "  FutureWarning\n"
          ]
        },
        {
          "output_type": "display_data",
          "data": {
            "text/plain": [
              "<Figure size 432x288 with 1 Axes>"
            ],
            "image/png": "[encoded data removed]"
          },
          "metadata": {}
        }
      ]
    },
    {
      "cell_type": "code",
      "source": [
        "sns.distplot(df['hrNo'], bins=10)\n",
        "plt.show()"
      ],
      "metadata": {
        "colab": {
          "base_uri": "https://localhost:8080/",
          "height": 342
        },
        "id": "J9Mo1ti9Ns2i",
        "outputId": "b86314d8-6d26-43b3-be96-d5fc51b8d0e5"
      },
      "execution_count": 256,
      "outputs": [
        {
          "output_type": "stream",
          "name": "stderr",
          "text": [
            "/usr/local/lib/python3.7/dist-packages/seaborn/distributions.py:2619: FutureWarning: `distplot` is a deprecated function and will be removed in a future version. Please adapt your code to use either `displot` (a figure-level function with similar flexibility) or `histplot` (an axes-level function for histograms).\n",
            "  warnings.warn(msg, FutureWarning)\n"
          ]
        },
        {
          "output_type": "display_data",
          "data": {
            "text/plain": [
              "<Figure size 432x288 with 1 Axes>"
            ],
            "image/png": "[encoded data removed]"
          },
          "metadata": {}
        }
      ]
    },
    {
      "cell_type": "code",
      "source": [
        "#유의미한 특성들만을 가지고 데이터프레임 구성\n",
        "df = df.drop(['rcDate', 'chaksunT', 'chaksunY', 'chaksun_6m', 'ilsu', 'rcTime'], axis='columns') # 경기 날짜, 상금, 경기기록, 경마 일수 칼럼 제거"
      ],
      "metadata": {
        "id": "HQsS-o0JBQ22"
      },
      "execution_count": 257,
      "outputs": []
    },
    {
      "cell_type": "code",
      "source": [
        "df.nunique()"
      ],
      "metadata": {
        "colab": {
          "base_uri": "https://localhost:8080/"
        },
        "id": "fyduwOjCSFTH",
        "outputId": "3ca742e7-44ff-4ff4-b4f7-46e5d0f03b7e"
      },
      "execution_count": 258,
      "outputs": [
        {
          "output_type": "execute_result",
          "data": {
            "text/plain": [
              "ord             2\n",
              "rcNo           15\n",
              "chulNo         16\n",
              "hrNo         1390\n",
              "age             8\n",
              "ageCond         5\n",
              "budam           3\n",
              "dusu            9\n",
              "ord1CntT       13\n",
              "ord1CntY        8\n",
              "ord2CntT       11\n",
              "ord2CntY        7\n",
              "ord3CntT       11\n",
              "ord3CntY        7\n",
              "prd             5\n",
              "prizeCond       7\n",
              "rank           10\n",
              "rating        112\n",
              "rcCntT         59\n",
              "rcCntY         17\n",
              "rcDist          7\n",
              "sex             3\n",
              "wgBudam        21\n",
              "track           5\n",
              "weather         3\n",
              "waterRate      16\n",
              "jkNo           57\n",
              "trNo           52\n",
              "owNo          290\n",
              "dtype: int64"
            ]
          },
          "metadata": {},
          "execution_count": 258
        }
      ]
    },
    {
      "cell_type": "code",
      "source": [
        "from sklearn.metrics import recall_score\n",
        "import sklearn.metrics as metrics\n",
        "from sklearn.metrics import confusion_matrix\n"
      ],
      "metadata": {
        "id": "XDRSIHw7xTzn"
      },
      "execution_count": 259,
      "outputs": []
    },
    {
      "cell_type": "code",
      "source": [
        "rf1_result = []\n",
        "rf1_recall1 = []\n",
        "rf1_recall0 = []\n",
        "rf1_c_m = []\n",
        "rf1_yscore = []\n",
        "for i in range(30):\n",
        "  print(\"iter\",i)\n",
        "  tr_data, te_data = train_test_split(df, test_size = 0.2)\n",
        "\n",
        "  tr_X = tr_data.iloc[:,1:]\n",
        "  tr_Y = tr_data.iloc[:,0]\n",
        "  te_X = te_data.iloc[:,1:]\n",
        "  te_Y = te_data.iloc[:,0]\n",
        "\n",
        "  encoder = TargetEncoder()\n",
        "  tr_X = encoder.fit_transform(tr_X, tr_Y)\n",
        "  te_X = encoder.transform(te_X) \n",
        "\n",
        "  print('training')\n",
        "  rf = RandomForestClassifier(class_weight='balanced', n_estimators=500, max_depth = 25, max_features = 'auto', bootstrap = False)# 가중치를 주어 과적합을 해결\n",
        "  cl = rf.fit(tr_X.values, tr_Y.values)\n",
        "\n",
        "  print(\"test\")\n",
        "  pred = cl.predict(te_X)\n",
        "  yscore = cl.predict_proba(te_X)\n",
        "\n",
        "\n",
        "  acc = np.sum(te_Y.values == pred) / len(pred)\n",
        "  re1 = metrics.recall_score(te_Y.values, pred,pos_label=1)\n",
        "  re0 = metrics.recall_score(te_Y.values, pred,pos_label = 0)\n",
        "  cm = confusion_matrix(te_Y,pred,labels = [0,1])\n",
        "  rf1_yscore.append(yscore)\n",
        "\n",
        "\n",
        "  rf1_result.append(acc)\n",
        "  rf1_recall1.append(re1)\n",
        "  rf1_recall0.append(re0)\n",
        "  rf1_c_m.append(cm)\n",
        "\n",
        "print(np.mean(rf1_result))\n",
        "print(np.mean(rf1_recall1))\n",
        "print(np.mean(rf1_recall0))"
      ],
      "metadata": {
        "colab": {
          "base_uri": "https://localhost:8080/"
        },
        "id": "KI8HvtyXKCzq",
        "outputId": "65a450f0-b19e-4e35-ca74-e6f27e5e3bc7"
      },
      "execution_count": 260,
      "outputs": [
        {
          "output_type": "stream",
          "name": "stdout",
          "text": [
            "iter 0\n",
            "training\n",
            "test\n"
          ]
        },
        {
          "output_type": "stream",
          "name": "stderr",
          "text": [
            "/usr/local/lib/python3.7/dist-packages/sklearn/base.py:444: UserWarning: X has feature names, but RandomForestClassifier was fitted without feature names\n",
            "  f\"X has feature names, but {self.__class__.__name__} was fitted without\"\n",
            "/usr/local/lib/python3.7/dist-packages/sklearn/base.py:444: UserWarning: X has feature names, but RandomForestClassifier was fitted without feature names\n",
            "  f\"X has feature names, but {self.__class__.__name__} was fitted without\"\n"
          ]
        },
        {
          "output_type": "stream",
          "name": "stdout",
          "text": [
            "iter 1\n",
            "training\n",
            "test\n"
          ]
        },
        {
          "output_type": "stream",
          "name": "stderr",
          "text": [
            "/usr/local/lib/python3.7/dist-packages/sklearn/base.py:444: UserWarning: X has feature names, but RandomForestClassifier was fitted without feature names\n",
            "  f\"X has feature names, but {self.__class__.__name__} was fitted without\"\n",
            "/usr/local/lib/python3.7/dist-packages/sklearn/base.py:444: UserWarning: X has feature names, but RandomForestClassifier was fitted without feature names\n",
            "  f\"X has feature names, but {self.__class__.__name__} was fitted without\"\n"
          ]
        },
        {
          "output_type": "stream",
          "name": "stdout",
          "text": [
            "iter 2\n",
            "training\n",
            "test\n"
          ]
        },
        {
          "output_type": "stream",
          "name": "stderr",
          "text": [
            "/usr/local/lib/python3.7/dist-packages/sklearn/base.py:444: UserWarning: X has feature names, but RandomForestClassifier was fitted without feature names\n",
            "  f\"X has feature names, but {self.__class__.__name__} was fitted without\"\n",
            "/usr/local/lib/python3.7/dist-packages/sklearn/base.py:444: UserWarning: X has feature names, but RandomForestClassifier was fitted without feature names\n",
            "  f\"X has feature names, but {self.__class__.__name__} was fitted without\"\n"
          ]
        },
        {
          "output_type": "stream",
          "name": "stdout",
          "text": [
            "iter 3\n",
            "training\n",
            "test\n"
          ]
        },
        {
          "output_type": "stream",
          "name": "stderr",
          "text": [
            "/usr/local/lib/python3.7/dist-packages/sklearn/base.py:444: UserWarning: X has feature names, but RandomForestClassifier was fitted without feature names\n",
            "  f\"X has feature names, but {self.__class__.__name__} was fitted without\"\n",
            "/usr/local/lib/python3.7/dist-packages/sklearn/base.py:444: UserWarning: X has feature names, but RandomForestClassifier was fitted without feature names\n",
            "  f\"X has feature names, but {self.__class__.__name__} was fitted without\"\n"
          ]
        },
        {
          "output_type": "stream",
          "name": "stdout",
          "text": [
            "iter 4\n",
            "training\n",
            "test\n"
          ]
        },
        {
          "output_type": "stream",
          "name": "stderr",
          "text": [
            "/usr/local/lib/python3.7/dist-packages/sklearn/base.py:444: UserWarning: X has feature names, but RandomForestClassifier was fitted without feature names\n",
            "  f\"X has feature names, but {self.__class__.__name__} was fitted without\"\n",
            "/usr/local/lib/python3.7/dist-packages/sklearn/base.py:444: UserWarning: X has feature names, but RandomForestClassifier was fitted without feature names\n",
            "  f\"X has feature names, but {self.__class__.__name__} was fitted without\"\n"
          ]
        },
        {
          "output_type": "stream",
          "name": "stdout",
          "text": [
            "iter 5\n",
            "training\n",
            "test\n"
          ]
        },
        {
          "output_type": "stream",
          "name": "stderr",
          "text": [
            "/usr/local/lib/python3.7/dist-packages/sklearn/base.py:444: UserWarning: X has feature names, but RandomForestClassifier was fitted without feature names\n",
            "  f\"X has feature names, but {self.__class__.__name__} was fitted without\"\n",
            "/usr/local/lib/python3.7/dist-packages/sklearn/base.py:444: UserWarning: X has feature names, but RandomForestClassifier was fitted without feature names\n",
            "  f\"X has feature names, but {self.__class__.__name__} was fitted without\"\n"
          ]
        },
        {
          "output_type": "stream",
          "name": "stdout",
          "text": [
            "iter 6\n",
            "training\n",
            "test\n"
          ]
        },
        {
          "output_type": "stream",
          "name": "stderr",
          "text": [
            "/usr/local/lib/python3.7/dist-packages/sklearn/base.py:444: UserWarning: X has feature names, but RandomForestClassifier was fitted without feature names\n",
            "  f\"X has feature names, but {self.__class__.__name__} was fitted without\"\n",
            "/usr/local/lib/python3.7/dist-packages/sklearn/base.py:444: UserWarning: X has feature names, but RandomForestClassifier was fitted without feature names\n",
            "  f\"X has feature names, but {self.__class__.__name__} was fitted without\"\n"
          ]
        },
        {
          "output_type": "stream",
          "name": "stdout",
          "text": [
            "iter 7\n",
            "training\n",
            "test\n"
          ]
        },
        {
          "output_type": "stream",
          "name": "stderr",
          "text": [
            "/usr/local/lib/python3.7/dist-packages/sklearn/base.py:444: UserWarning: X has feature names, but RandomForestClassifier was fitted without feature names\n",
            "  f\"X has feature names, but {self.__class__.__name__} was fitted without\"\n",
            "/usr/local/lib/python3.7/dist-packages/sklearn/base.py:444: UserWarning: X has feature names, but RandomForestClassifier was fitted without feature names\n",
            "  f\"X has feature names, but {self.__class__.__name__} was fitted without\"\n"
          ]
        },
        {
          "output_type": "stream",
          "name": "stdout",
          "text": [
            "iter 8\n",
            "training\n",
            "test\n"
          ]
        },
        {
          "output_type": "stream",
          "name": "stderr",
          "text": [
            "/usr/local/lib/python3.7/dist-packages/sklearn/base.py:444: UserWarning: X has feature names, but RandomForestClassifier was fitted without feature names\n",
            "  f\"X has feature names, but {self.__class__.__name__} was fitted without\"\n",
            "/usr/local/lib/python3.7/dist-packages/sklearn/base.py:444: UserWarning: X has feature names, but RandomForestClassifier was fitted without feature names\n",
            "  f\"X has feature names, but {self.__class__.__name__} was fitted without\"\n"
          ]
        },
        {
          "output_type": "stream",
          "name": "stdout",
          "text": [
            "iter 9\n",
            "training\n",
            "test\n"
          ]
        },
        {
          "output_type": "stream",
          "name": "stderr",
          "text": [
            "/usr/local/lib/python3.7/dist-packages/sklearn/base.py:444: UserWarning: X has feature names, but RandomForestClassifier was fitted without feature names\n",
            "  f\"X has feature names, but {self.__class__.__name__} was fitted without\"\n",
            "/usr/local/lib/python3.7/dist-packages/sklearn/base.py:444: UserWarning: X has feature names, but RandomForestClassifier was fitted without feature names\n",
            "  f\"X has feature names, but {self.__class__.__name__} was fitted without\"\n"
          ]
        },
        {
          "output_type": "stream",
          "name": "stdout",
          "text": [
            "iter 10\n",
            "training\n",
            "test\n"
          ]
        },
        {
          "output_type": "stream",
          "name": "stderr",
          "text": [
            "/usr/local/lib/python3.7/dist-packages/sklearn/base.py:444: UserWarning: X has feature names, but RandomForestClassifier was fitted without feature names\n",
            "  f\"X has feature names, but {self.__class__.__name__} was fitted without\"\n",
            "/usr/local/lib/python3.7/dist-packages/sklearn/base.py:444: UserWarning: X has feature names, but RandomForestClassifier was fitted without feature names\n",
            "  f\"X has feature names, but {self.__class__.__name__} was fitted without\"\n"
          ]
        },
        {
          "output_type": "stream",
          "name": "stdout",
          "text": [
            "iter 11\n",
            "training\n",
            "test\n"
          ]
        },
        {
          "output_type": "stream",
          "name": "stderr",
          "text": [
            "/usr/local/lib/python3.7/dist-packages/sklearn/base.py:444: UserWarning: X has feature names, but RandomForestClassifier was fitted without feature names\n",
            "  f\"X has feature names, but {self.__class__.__name__} was fitted without\"\n",
            "/usr/local/lib/python3.7/dist-packages/sklearn/base.py:444: UserWarning: X has feature names, but RandomForestClassifier was fitted without feature names\n",
            "  f\"X has feature names, but {self.__class__.__name__} was fitted without\"\n"
          ]
        },
        {
          "output_type": "stream",
          "name": "stdout",
          "text": [
            "iter 12\n",
            "training\n",
            "test\n"
          ]
        },
        {
          "output_type": "stream",
          "name": "stderr",
          "text": [
            "/usr/local/lib/python3.7/dist-packages/sklearn/base.py:444: UserWarning: X has feature names, but RandomForestClassifier was fitted without feature names\n",
            "  f\"X has feature names, but {self.__class__.__name__} was fitted without\"\n",
            "/usr/local/lib/python3.7/dist-packages/sklearn/base.py:444: UserWarning: X has feature names, but RandomForestClassifier was fitted without feature names\n",
            "  f\"X has feature names, but {self.__class__.__name__} was fitted without\"\n"
          ]
        },
        {
          "output_type": "stream",
          "name": "stdout",
          "text": [
            "iter 13\n",
            "training\n",
            "test\n"
          ]
        },
        {
          "output_type": "stream",
          "name": "stderr",
          "text": [
            "/usr/local/lib/python3.7/dist-packages/sklearn/base.py:444: UserWarning: X has feature names, but RandomForestClassifier was fitted without feature names\n",
            "  f\"X has feature names, but {self.__class__.__name__} was fitted without\"\n",
            "/usr/local/lib/python3.7/dist-packages/sklearn/base.py:444: UserWarning: X has feature names, but RandomForestClassifier was fitted without feature names\n",
            "  f\"X has feature names, but {self.__class__.__name__} was fitted without\"\n"
          ]
        },
        {
          "output_type": "stream",
          "name": "stdout",
          "text": [
            "iter 14\n",
            "training\n",
            "test\n"
          ]
        },
        {
          "output_type": "stream",
          "name": "stderr",
          "text": [
            "/usr/local/lib/python3.7/dist-packages/sklearn/base.py:444: UserWarning: X has feature names, but RandomForestClassifier was fitted without feature names\n",
            "  f\"X has feature names, but {self.__class__.__name__} was fitted without\"\n",
            "/usr/local/lib/python3.7/dist-packages/sklearn/base.py:444: UserWarning: X has feature names, but RandomForestClassifier was fitted without feature names\n",
            "  f\"X has feature names, but {self.__class__.__name__} was fitted without\"\n"
          ]
        },
        {
          "output_type": "stream",
          "name": "stdout",
          "text": [
            "iter 15\n",
            "training\n",
            "test\n"
          ]
        },
        {
          "output_type": "stream",
          "name": "stderr",
          "text": [
            "/usr/local/lib/python3.7/dist-packages/sklearn/base.py:444: UserWarning: X has feature names, but RandomForestClassifier was fitted without feature names\n",
            "  f\"X has feature names, but {self.__class__.__name__} was fitted without\"\n",
            "/usr/local/lib/python3.7/dist-packages/sklearn/base.py:444: UserWarning: X has feature names, but RandomForestClassifier was fitted without feature names\n",
            "  f\"X has feature names, but {self.__class__.__name__} was fitted without\"\n"
          ]
        },
        {
          "output_type": "stream",
          "name": "stdout",
          "text": [
            "iter 16\n",
            "training\n",
            "test\n"
          ]
        },
        {
          "output_type": "stream",
          "name": "stderr",
          "text": [
            "/usr/local/lib/python3.7/dist-packages/sklearn/base.py:444: UserWarning: X has feature names, but RandomForestClassifier was fitted without feature names\n",
            "  f\"X has feature names, but {self.__class__.__name__} was fitted without\"\n",
            "/usr/local/lib/python3.7/dist-packages/sklearn/base.py:444: UserWarning: X has feature names, but RandomForestClassifier was fitted without feature names\n",
            "  f\"X has feature names, but {self.__class__.__name__} was fitted without\"\n"
          ]
        },
        {
          "output_type": "stream",
          "name": "stdout",
          "text": [
            "iter 17\n",
            "training\n",
            "test\n"
          ]
        },
        {
          "output_type": "stream",
          "name": "stderr",
          "text": [
            "/usr/local/lib/python3.7/dist-packages/sklearn/base.py:444: UserWarning: X has feature names, but RandomForestClassifier was fitted without feature names\n",
            "  f\"X has feature names, but {self.__class__.__name__} was fitted without\"\n",
            "/usr/local/lib/python3.7/dist-packages/sklearn/base.py:444: UserWarning: X has feature names, but RandomForestClassifier was fitted without feature names\n",
            "  f\"X has feature names, but {self.__class__.__name__} was fitted without\"\n"
          ]
        },
        {
          "output_type": "stream",
          "name": "stdout",
          "text": [
            "iter 18\n",
            "training\n",
            "test\n"
          ]
        },
        {
          "output_type": "stream",
          "name": "stderr",
          "text": [
            "/usr/local/lib/python3.7/dist-packages/sklearn/base.py:444: UserWarning: X has feature names, but RandomForestClassifier was fitted without feature names\n",
            "  f\"X has feature names, but {self.__class__.__name__} was fitted without\"\n",
            "/usr/local/lib/python3.7/dist-packages/sklearn/base.py:444: UserWarning: X has feature names, but RandomForestClassifier was fitted without feature names\n",
            "  f\"X has feature names, but {self.__class__.__name__} was fitted without\"\n"
          ]
        },
        {
          "output_type": "stream",
          "name": "stdout",
          "text": [
            "iter 19\n",
            "training\n",
            "test\n"
          ]
        },
        {
          "output_type": "stream",
          "name": "stderr",
          "text": [
            "/usr/local/lib/python3.7/dist-packages/sklearn/base.py:444: UserWarning: X has feature names, but RandomForestClassifier was fitted without feature names\n",
            "  f\"X has feature names, but {self.__class__.__name__} was fitted without\"\n",
            "/usr/local/lib/python3.7/dist-packages/sklearn/base.py:444: UserWarning: X has feature names, but RandomForestClassifier was fitted without feature names\n",
            "  f\"X has feature names, but {self.__class__.__name__} was fitted without\"\n"
          ]
        },
        {
          "output_type": "stream",
          "name": "stdout",
          "text": [
            "iter 20\n",
            "training\n",
            "test\n"
          ]
        },
        {
          "output_type": "stream",
          "name": "stderr",
          "text": [
            "/usr/local/lib/python3.7/dist-packages/sklearn/base.py:444: UserWarning: X has feature names, but RandomForestClassifier was fitted without feature names\n",
            "  f\"X has feature names, but {self.__class__.__name__} was fitted without\"\n",
            "/usr/local/lib/python3.7/dist-packages/sklearn/base.py:444: UserWarning: X has feature names, but RandomForestClassifier was fitted without feature names\n",
            "  f\"X has feature names, but {self.__class__.__name__} was fitted without\"\n"
          ]
        },
        {
          "output_type": "stream",
          "name": "stdout",
          "text": [
            "iter 21\n",
            "training\n",
            "test\n"
          ]
        },
        {
          "output_type": "stream",
          "name": "stderr",
          "text": [
            "/usr/local/lib/python3.7/dist-packages/sklearn/base.py:444: UserWarning: X has feature names, but RandomForestClassifier was fitted without feature names\n",
            "  f\"X has feature names, but {self.__class__.__name__} was fitted without\"\n",
            "/usr/local/lib/python3.7/dist-packages/sklearn/base.py:444: UserWarning: X has feature names, but RandomForestClassifier was fitted without feature names\n",
            "  f\"X has feature names, but {self.__class__.__name__} was fitted without\"\n"
          ]
        },
        {
          "output_type": "stream",
          "name": "stdout",
          "text": [
            "iter 22\n",
            "training\n",
            "test\n"
          ]
        },
        {
          "output_type": "stream",
          "name": "stderr",
          "text": [
            "/usr/local/lib/python3.7/dist-packages/sklearn/base.py:444: UserWarning: X has feature names, but RandomForestClassifier was fitted without feature names\n",
            "  f\"X has feature names, but {self.__class__.__name__} was fitted without\"\n",
            "/usr/local/lib/python3.7/dist-packages/sklearn/base.py:444: UserWarning: X has feature names, but RandomForestClassifier was fitted without feature names\n",
            "  f\"X has feature names, but {self.__class__.__name__} was fitted without\"\n"
          ]
        },
        {
          "output_type": "stream",
          "name": "stdout",
          "text": [
            "iter 23\n",
            "training\n",
            "test\n"
          ]
        },
        {
          "output_type": "stream",
          "name": "stderr",
          "text": [
            "/usr/local/lib/python3.7/dist-packages/sklearn/base.py:444: UserWarning: X has feature names, but RandomForestClassifier was fitted without feature names\n",
            "  f\"X has feature names, but {self.__class__.__name__} was fitted without\"\n",
            "/usr/local/lib/python3.7/dist-packages/sklearn/base.py:444: UserWarning: X has feature names, but RandomForestClassifier was fitted without feature names\n",
            "  f\"X has feature names, but {self.__class__.__name__} was fitted without\"\n"
          ]
        },
        {
          "output_type": "stream",
          "name": "stdout",
          "text": [
            "iter 24\n",
            "training\n",
            "test\n"
          ]
        },
        {
          "output_type": "stream",
          "name": "stderr",
          "text": [
            "/usr/local/lib/python3.7/dist-packages/sklearn/base.py:444: UserWarning: X has feature names, but RandomForestClassifier was fitted without feature names\n",
            "  f\"X has feature names, but {self.__class__.__name__} was fitted without\"\n",
            "/usr/local/lib/python3.7/dist-packages/sklearn/base.py:444: UserWarning: X has feature names, but RandomForestClassifier was fitted without feature names\n",
            "  f\"X has feature names, but {self.__class__.__name__} was fitted without\"\n"
          ]
        },
        {
          "output_type": "stream",
          "name": "stdout",
          "text": [
            "iter 25\n",
            "training\n",
            "test\n"
          ]
        },
        {
          "output_type": "stream",
          "name": "stderr",
          "text": [
            "/usr/local/lib/python3.7/dist-packages/sklearn/base.py:444: UserWarning: X has feature names, but RandomForestClassifier was fitted without feature names\n",
            "  f\"X has feature names, but {self.__class__.__name__} was fitted without\"\n",
            "/usr/local/lib/python3.7/dist-packages/sklearn/base.py:444: UserWarning: X has feature names, but RandomForestClassifier was fitted without feature names\n",
            "  f\"X has feature names, but {self.__class__.__name__} was fitted without\"\n"
          ]
        },
        {
          "output_type": "stream",
          "name": "stdout",
          "text": [
            "iter 26\n",
            "training\n",
            "test\n"
          ]
        },
        {
          "output_type": "stream",
          "name": "stderr",
          "text": [
            "/usr/local/lib/python3.7/dist-packages/sklearn/base.py:444: UserWarning: X has feature names, but RandomForestClassifier was fitted without feature names\n",
            "  f\"X has feature names, but {self.__class__.__name__} was fitted without\"\n",
            "/usr/local/lib/python3.7/dist-packages/sklearn/base.py:444: UserWarning: X has feature names, but RandomForestClassifier was fitted without feature names\n",
            "  f\"X has feature names, but {self.__class__.__name__} was fitted without\"\n"
          ]
        },
        {
          "output_type": "stream",
          "name": "stdout",
          "text": [
            "iter 27\n",
            "training\n",
            "test\n"
          ]
        },
        {
          "output_type": "stream",
          "name": "stderr",
          "text": [
            "/usr/local/lib/python3.7/dist-packages/sklearn/base.py:444: UserWarning: X has feature names, but RandomForestClassifier was fitted without feature names\n",
            "  f\"X has feature names, but {self.__class__.__name__} was fitted without\"\n",
            "/usr/local/lib/python3.7/dist-packages/sklearn/base.py:444: UserWarning: X has feature names, but RandomForestClassifier was fitted without feature names\n",
            "  f\"X has feature names, but {self.__class__.__name__} was fitted without\"\n"
          ]
        },
        {
          "output_type": "stream",
          "name": "stdout",
          "text": [
            "iter 28\n",
            "training\n",
            "test\n"
          ]
        },
        {
          "output_type": "stream",
          "name": "stderr",
          "text": [
            "/usr/local/lib/python3.7/dist-packages/sklearn/base.py:444: UserWarning: X has feature names, but RandomForestClassifier was fitted without feature names\n",
            "  f\"X has feature names, but {self.__class__.__name__} was fitted without\"\n",
            "/usr/local/lib/python3.7/dist-packages/sklearn/base.py:444: UserWarning: X has feature names, but RandomForestClassifier was fitted without feature names\n",
            "  f\"X has feature names, but {self.__class__.__name__} was fitted without\"\n"
          ]
        },
        {
          "output_type": "stream",
          "name": "stdout",
          "text": [
            "iter 29\n",
            "training\n",
            "test\n"
          ]
        },
        {
          "output_type": "stream",
          "name": "stderr",
          "text": [
            "/usr/local/lib/python3.7/dist-packages/sklearn/base.py:444: UserWarning: X has feature names, but RandomForestClassifier was fitted without feature names\n",
            "  f\"X has feature names, but {self.__class__.__name__} was fitted without\"\n",
            "/usr/local/lib/python3.7/dist-packages/sklearn/base.py:444: UserWarning: X has feature names, but RandomForestClassifier was fitted without feature names\n",
            "  f\"X has feature names, but {self.__class__.__name__} was fitted without\"\n"
          ]
        },
        {
          "output_type": "stream",
          "name": "stdout",
          "text": [
            "0.8303571428571429\n",
            "0.12134464339992494\n",
            "0.9714690124052269\n"
          ]
        }
      ]
    },
    {
      "cell_type": "code",
      "source": [
        "pred"
      ],
      "metadata": {
        "colab": {
          "base_uri": "https://localhost:8080/"
        },
        "id": "48ybvbO1UL8l",
        "outputId": "573d2c84-232e-4bc1-8624-243088a4a38f"
      },
      "execution_count": 261,
      "outputs": [
        {
          "output_type": "execute_result",
          "data": {
            "text/plain": [
              "array([0, 0, 0, ..., 0, 0, 0])"
            ]
          },
          "metadata": {},
          "execution_count": 261
        }
      ]
    },
    {
      "cell_type": "code",
      "source": [
        "#validation 및 train 데이터를 종합하여 최종모델을 재학습\n",
        "\n",
        "df_X = df.iloc[:,1:]\n",
        "df_Y = df.iloc[:,0]\n",
        "\n",
        "encoder = TargetEncoder()\n",
        "df_X = encoder.fit_transform(df_X, df_Y)\n",
        "\n",
        "\n",
        "rf = RandomForestClassifier(class_weight='balanced', n_estimators=500, max_depth = 25, max_features = 'auto', bootstrap = False)# 가중치를 주어 과적합을 해결\n",
        "cl = rf.fit(df_X.values, df_Y.values)\n",
        "\n"
      ],
      "metadata": {
        "id": "y19ls5SYVdfK"
      },
      "execution_count": 262,
      "outputs": []
    },
    {
      "cell_type": "code",
      "source": [
        "test_url = '/content/test.csv'\n",
        "\n",
        "\n",
        "# train 데이터셋을 불러옵니다\n",
        "df_T = pd.read_csv(test_url)\n",
        "df_F = pd.read_csv(test_url)"
      ],
      "metadata": {
        "id": "omtQCRSPWzg4"
      },
      "execution_count": 283,
      "outputs": []
    },
    {
      "cell_type": "code",
      "source": [
        "df_T.info() # 테스트 데이터셋 확인 "
      ],
      "metadata": {
        "colab": {
          "base_uri": "https://localhost:8080/"
        },
        "id": "c6NqSltlXnFR",
        "outputId": "417c1b2b-d4aa-437d-ebb5-bf1c91091305"
      },
      "execution_count": 284,
      "outputs": [
        {
          "output_type": "stream",
          "name": "stdout",
          "text": [
            "<class 'pandas.core.frame.DataFrame'>\n",
            "RangeIndex: 654 entries, 0 to 653\n",
            "Data columns (total 33 columns):\n",
            " #   Column      Non-Null Count  Dtype  \n",
            "---  ------      --------------  -----  \n",
            " 0   rcDate      654 non-null    int64  \n",
            " 1   rcNo        654 non-null    int64  \n",
            " 2   chulNo      654 non-null    int64  \n",
            " 3   hrNo        654 non-null    int64  \n",
            " 4   age         654 non-null    int64  \n",
            " 5   ageCond     654 non-null    object \n",
            " 6   budam       654 non-null    object \n",
            " 7   chaksunT    654 non-null    int64  \n",
            " 8   chaksunY    654 non-null    int64  \n",
            " 9   chaksun_6m  654 non-null    int64  \n",
            " 10  dusu        654 non-null    int64  \n",
            " 11  ilsu        654 non-null    int64  \n",
            " 12  ord1CntT    654 non-null    int64  \n",
            " 13  ord1CntY    654 non-null    int64  \n",
            " 14  ord2CntT    654 non-null    int64  \n",
            " 15  ord2CntY    654 non-null    int64  \n",
            " 16  ord3CntT    654 non-null    int64  \n",
            " 17  ord3CntY    654 non-null    int64  \n",
            " 18  prd         654 non-null    object \n",
            " 19  prizeCond   654 non-null    object \n",
            " 20  rank        654 non-null    object \n",
            " 21  rating      654 non-null    object \n",
            " 22  rcCntT      654 non-null    int64  \n",
            " 23  rcCntY      654 non-null    int64  \n",
            " 24  rcDist      654 non-null    int64  \n",
            " 25  sex         654 non-null    object \n",
            " 26  wgBudam     654 non-null    float64\n",
            " 27  track       654 non-null    object \n",
            " 28  weather     654 non-null    object \n",
            " 29  waterRate   654 non-null    int64  \n",
            " 30  jkNo        654 non-null    int64  \n",
            " 31  trNo        654 non-null    int64  \n",
            " 32  owNo        654 non-null    int64  \n",
            "dtypes: float64(1), int64(23), object(9)\n",
            "memory usage: 168.7+ KB\n"
          ]
        }
      ]
    },
    {
      "cell_type": "code",
      "source": [
        "df_T['rating'] = df_T['rating'].replace('-',0)\n",
        "df_T['rating'] = df_T['rating'].astype(int)"
      ],
      "metadata": {
        "id": "ja8vFTzCkAKA"
      },
      "execution_count": 285,
      "outputs": []
    },
    {
      "cell_type": "code",
      "source": [
        "#만든 모델에 적합한 형태의 데이터 프레임으로 만들기 위해 위와 같이 동일한 전처리 실행\n",
        "df_T = df_T.drop(['rcDate', 'chaksunT', 'chaksunY', 'chaksun_6m', 'ilsu'], axis='columns') # 테스트 셋에서는 'rcTime' 칼럼이 없기에 제외"
      ],
      "metadata": {
        "id": "nyd6gVVmYEN4"
      },
      "execution_count": 286,
      "outputs": []
    },
    {
      "cell_type": "code",
      "source": [
        "df_T.nunique() # 데이터 프레임 확인\n"
      ],
      "metadata": {
        "colab": {
          "base_uri": "https://localhost:8080/"
        },
        "id": "htQtWX6qY0OR",
        "outputId": "862f5ba8-5888-4c6c-f450-145611fe946c"
      },
      "execution_count": 287,
      "outputs": [
        {
          "output_type": "execute_result",
          "data": {
            "text/plain": [
              "rcNo           8\n",
              "chulNo        14\n",
              "hrNo         578\n",
              "age            7\n",
              "ageCond        2\n",
              "budam          3\n",
              "dusu           8\n",
              "ord1CntT      12\n",
              "ord1CntY       7\n",
              "ord2CntT      10\n",
              "ord2CntY       6\n",
              "ord3CntT       9\n",
              "ord3CntY       5\n",
              "prd            5\n",
              "prizeCond      6\n",
              "rank           8\n",
              "rating        78\n",
              "rcCntT        53\n",
              "rcCntY        19\n",
              "rcDist         7\n",
              "sex            3\n",
              "wgBudam       19\n",
              "track          1\n",
              "weather        2\n",
              "waterRate      2\n",
              "jkNo          25\n",
              "trNo          29\n",
              "owNo         199\n",
              "dtype: int64"
            ]
          },
          "metadata": {},
          "execution_count": 287
        }
      ]
    },
    {
      "cell_type": "code",
      "source": [
        "df_T = encoder.transform(df_T)"
      ],
      "metadata": {
        "id": "gcKNdnNTepC9"
      },
      "execution_count": 288,
      "outputs": []
    },
    {
      "cell_type": "code",
      "source": [
        "pred = cl.predict(df_T)# 순서와 상관없이 1등 및 2등 예측.\n",
        "pred"
      ],
      "metadata": {
        "colab": {
          "base_uri": "https://localhost:8080/"
        },
        "id": "Ch_gYmOJZwVB",
        "outputId": "153636a1-7af2-4925-94fa-a6a4a6b50c34"
      },
      "execution_count": 289,
      "outputs": [
        {
          "output_type": "stream",
          "name": "stderr",
          "text": [
            "/usr/local/lib/python3.7/dist-packages/sklearn/base.py:444: UserWarning: X has feature names, but RandomForestClassifier was fitted without feature names\n",
            "  f\"X has feature names, but {self.__class__.__name__} was fitted without\"\n"
          ]
        },
        {
          "output_type": "execute_result",
          "data": {
            "text/plain": [
              "array([0, 0, 0, 0, 0, 0, 0, 0, 0, 0, 0, 0, 1, 0, 0, 0, 0, 0, 0, 0, 0, 0,\n",
              "       0, 0, 0, 0, 0, 0, 0, 0, 0, 0, 0, 0, 0, 0, 0, 0, 0, 0, 0, 0, 0, 0,\n",
              "       0, 0, 0, 0, 0, 0, 0, 0, 0, 0, 0, 0, 0, 0, 0, 0, 0, 0, 0, 0, 0, 0,\n",
              "       0, 1, 0, 0, 0, 0, 0, 0, 0, 0, 0, 0, 0, 0, 0, 0, 0, 0, 0, 0, 0, 0,\n",
              "       0, 0, 0, 0, 0, 0, 0, 0, 0, 0, 0, 0, 0, 0, 0, 0, 0, 0, 0, 0, 0, 0,\n",
              "       0, 0, 0, 0, 0, 0, 0, 0, 0, 0, 0, 0, 0, 0, 0, 0, 0, 0, 0, 0, 0, 0,\n",
              "       0, 0, 0, 0, 0, 0, 0, 0, 0, 0, 0, 0, 0, 0, 0, 0, 0, 0, 0, 0, 0, 0,\n",
              "       0, 0, 0, 0, 0, 0, 0, 0, 1, 0, 0, 0, 0, 0, 0, 0, 0, 0, 0, 0, 0, 0,\n",
              "       0, 0, 0, 0, 0, 0, 0, 0, 0, 0, 0, 0, 0, 0, 0, 0, 0, 0, 0, 0, 0, 0,\n",
              "       0, 0, 0, 0, 1, 0, 0, 0, 0, 0, 0, 0, 0, 0, 0, 0, 0, 0, 0, 0, 0, 0,\n",
              "       0, 0, 0, 0, 0, 0, 0, 0, 0, 0, 0, 0, 0, 0, 0, 0, 0, 0, 0, 0, 0, 0,\n",
              "       0, 0, 0, 0, 0, 0, 0, 0, 0, 0, 0, 0, 0, 0, 0, 0, 0, 0, 0, 0, 0, 0,\n",
              "       0, 0, 0, 0, 0, 0, 1, 1, 0, 0, 0, 0, 0, 0, 0, 0, 0, 0, 0, 0, 0, 0,\n",
              "       0, 0, 0, 0, 0, 0, 0, 0, 0, 0, 0, 0, 0, 0, 0, 0, 0, 0, 0, 0, 0, 1,\n",
              "       0, 0, 0, 0, 0, 0, 0, 0, 0, 0, 0, 0, 0, 0, 0, 0, 0, 0, 0, 0, 0, 0,\n",
              "       0, 0, 0, 0, 0, 0, 0, 0, 0, 0, 0, 0, 0, 0, 0, 0, 0, 0, 0, 0, 0, 0,\n",
              "       0, 0, 0, 0, 0, 0, 0, 0, 0, 0, 0, 0, 0, 0, 0, 0, 0, 0, 0, 0, 0, 0,\n",
              "       0, 0, 0, 0, 0, 0, 0, 0, 0, 0, 0, 0, 0, 0, 1, 0, 0, 0, 0, 0, 0, 0,\n",
              "       0, 0, 0, 0, 0, 0, 0, 0, 0, 0, 0, 0, 0, 0, 0, 0, 0, 0, 0, 0, 0, 0,\n",
              "       0, 0, 0, 0, 0, 0, 0, 0, 0, 0, 0, 0, 0, 0, 0, 0, 0, 0, 0, 0, 0, 0,\n",
              "       0, 0, 0, 0, 0, 0, 0, 0, 0, 0, 0, 0, 0, 0, 0, 0, 0, 0, 0, 0, 0, 0,\n",
              "       0, 0, 0, 0, 0, 0, 0, 0, 0, 0, 0, 0, 0, 0, 0, 0, 0, 0, 0, 0, 0, 0,\n",
              "       0, 0, 0, 0, 0, 0, 0, 0, 0, 0, 0, 0, 0, 0, 0, 0, 0, 0, 1, 0, 0, 0,\n",
              "       0, 0, 0, 0, 0, 0, 0, 0, 0, 0, 0, 0, 0, 0, 0, 0, 0, 0, 0, 0, 0, 0,\n",
              "       0, 0, 0, 0, 0, 0, 0, 0, 0, 0, 0, 0, 0, 0, 0, 0, 0, 0, 0, 0, 0, 0,\n",
              "       0, 0, 0, 0, 0, 0, 0, 0, 0, 0, 0, 0, 0, 0, 0, 0, 0, 0, 0, 0, 0, 0,\n",
              "       0, 0, 0, 0, 0, 0, 0, 0, 0, 0, 0, 0, 1, 0, 0, 0, 0, 0, 0, 0, 0, 0,\n",
              "       0, 0, 0, 0, 0, 0, 0, 0, 0, 0, 0, 0, 0, 0, 0, 0, 0, 0, 0, 0, 0, 0,\n",
              "       0, 0, 0, 0, 1, 0, 0, 0, 0, 0, 0, 0, 0, 0, 0, 0, 0, 0, 0, 0, 0, 0,\n",
              "       0, 0, 0, 0, 0, 0, 0, 0, 0, 0, 0, 0, 0, 0, 0, 0])"
            ]
          },
          "metadata": {},
          "execution_count": 289
        }
      ]
    },
    {
      "cell_type": "code",
      "source": [
        "proba = cl.predict_proba(df_T) "
      ],
      "metadata": {
        "colab": {
          "base_uri": "https://localhost:8080/"
        },
        "id": "Hf_UJwsPqi4V",
        "outputId": "fc7973c5-a4b1-4559-d67a-da02408116fd"
      },
      "execution_count": 290,
      "outputs": [
        {
          "output_type": "stream",
          "name": "stderr",
          "text": [
            "/usr/local/lib/python3.7/dist-packages/sklearn/base.py:444: UserWarning: X has feature names, but RandomForestClassifier was fitted without feature names\n",
            "  f\"X has feature names, but {self.__class__.__name__} was fitted without\"\n"
          ]
        }
      ]
    },
    {
      "cell_type": "code",
      "source": [
        "proba = proba[:,1]#날짜별 레이스 번호마다, 1등 혹은 2등일 확률이 높은 순의 마번 TOP 3 확인을 위하여 확률화 "
      ],
      "metadata": {
        "id": "04o50b8Cqu4r"
      },
      "execution_count": 299,
      "outputs": []
    },
    {
      "cell_type": "code",
      "source": [
        "df_F['proba'] = proba\n",
        "df_F = df_F[['rcDate', 'rcNo', 'chulNo', 'proba']]\n",
        "# df_F = df_F.rename(columns={'item_id':'ID', 'date':'TARGET_DATE', 'mdape':'TARGET'})\n",
        "df_F"
      ],
      "metadata": {
        "colab": {
          "base_uri": "https://localhost:8080/",
          "height": 424
        },
        "id": "ql9StPA1n3Im",
        "outputId": "79698e9b-3f55-4b92-e77a-ea91fd5f3854"
      },
      "execution_count": 300,
      "outputs": [
        {
          "output_type": "execute_result",
          "data": {
            "text/plain": [
              "       rcDate  rcNo  chulNo     proba\n",
              "0    20220107     1       1  0.186000\n",
              "1    20220107     1       2  0.267079\n",
              "2    20220107     1       3  0.187705\n",
              "3    20220107     1       4  0.317817\n",
              "4    20220107     1       5  0.299571\n",
              "..        ...   ...     ...       ...\n",
              "649  20220130     6       9  0.283841\n",
              "650  20220130     6      10  0.038000\n",
              "651  20220130     6      11  0.054000\n",
              "652  20220130     6      13  0.038000\n",
              "653  20220130     6      14  0.272000\n",
              "\n",
              "[654 rows x 4 columns]"
            ],
            "text/html": [
              "\n",
              "  <div id=\"df-a54fb7cc-ee16-4ae1-9d7d-c789df63c357\">\n",
              "    <div class=\"colab-df-container\">\n",
              "      <div>\n",
              "<style scoped>\n",
              "    .dataframe tbody tr th:only-of-type {\n",
              "        vertical-align: middle;\n",
              "    }\n",
              "\n",
              "    .dataframe tbody tr th {\n",
              "        vertical-align: top;\n",
              "    }\n",
              "\n",
              "    .dataframe thead th {\n",
              "        text-align: right;\n",
              "    }\n",
              "</style>\n",
              "<table border=\"1\" class=\"dataframe\">\n",
              "  <thead>\n",
              "    <tr style=\"text-align: right;\">\n",
              "      <th></th>\n",
              "      <th>rcDate</th>\n",
              "      <th>rcNo</th>\n",
              "      <th>chulNo</th>\n",
              "      <th>proba</th>\n",
              "    </tr>\n",
              "  </thead>\n",
              "  <tbody>\n",
              "    <tr>\n",
              "      <th>0</th>\n",
              "      <td>20220107</td>\n",
              "      <td>1</td>\n",
              "      <td>1</td>\n",
              "      <td>0.186000</td>\n",
              "    </tr>\n",
              "    <tr>\n",
              "      <th>1</th>\n",
              "      <td>20220107</td>\n",
              "      <td>1</td>\n",
              "      <td>2</td>\n",
              "      <td>0.267079</td>\n",
              "    </tr>\n",
              "    <tr>\n",
              "      <th>2</th>\n",
              "      <td>20220107</td>\n",
              "      <td>1</td>\n",
              "      <td>3</td>\n",
              "      <td>0.187705</td>\n",
              "    </tr>\n",
              "    <tr>\n",
              "      <th>3</th>\n",
              "      <td>20220107</td>\n",
              "      <td>1</td>\n",
              "      <td>4</td>\n",
              "      <td>0.317817</td>\n",
              "    </tr>\n",
              "    <tr>\n",
              "      <th>4</th>\n",
              "      <td>20220107</td>\n",
              "      <td>1</td>\n",
              "      <td>5</td>\n",
              "      <td>0.299571</td>\n",
              "    </tr>\n",
              "    <tr>\n",
              "      <th>...</th>\n",
              "      <td>...</td>\n",
              "      <td>...</td>\n",
              "      <td>...</td>\n",
              "      <td>...</td>\n",
              "    </tr>\n",
              "    <tr>\n",
              "      <th>649</th>\n",
              "      <td>20220130</td>\n",
              "      <td>6</td>\n",
              "      <td>9</td>\n",
              "      <td>0.283841</td>\n",
              "    </tr>\n",
              "    <tr>\n",
              "      <th>650</th>\n",
              "      <td>20220130</td>\n",
              "      <td>6</td>\n",
              "      <td>10</td>\n",
              "      <td>0.038000</td>\n",
              "    </tr>\n",
              "    <tr>\n",
              "      <th>651</th>\n",
              "      <td>20220130</td>\n",
              "      <td>6</td>\n",
              "      <td>11</td>\n",
              "      <td>0.054000</td>\n",
              "    </tr>\n",
              "    <tr>\n",
              "      <th>652</th>\n",
              "      <td>20220130</td>\n",
              "      <td>6</td>\n",
              "      <td>13</td>\n",
              "      <td>0.038000</td>\n",
              "    </tr>\n",
              "    <tr>\n",
              "      <th>653</th>\n",
              "      <td>20220130</td>\n",
              "      <td>6</td>\n",
              "      <td>14</td>\n",
              "      <td>0.272000</td>\n",
              "    </tr>\n",
              "  </tbody>\n",
              "</table>\n",
              "<p>654 rows × 4 columns</p>\n",
              "</div>\n",
              "      <button class=\"colab-df-convert\" onclick=\"convertToInteractive('df-a54fb7cc-ee16-4ae1-9d7d-c789df63c357')\"\n",
              "              title=\"Convert this dataframe to an interactive table.\"\n",
              "              style=\"display:none;\">\n",
              "        \n",
              "  <svg xmlns=\"http://www.w3.org/2000/svg\" height=\"24px\"viewBox=\"0 0 24 24\"\n",
              "       width=\"24px\">\n",
              "    <path d=\"M0 0h24v24H0V0z\" fill=\"none\"/>\n",
              "    <path d=\"M18.56 5.44l.94 2.06.94-2.06 2.06-.94-2.06-.94-.94-2.06-.94 2.06-2.06.94zm-11 1L8.5 8.5l.94-2.06 2.06-.94-2.06-.94L8.5 2.5l-.94 2.06-2.06.94zm10 10l.94 2.06.94-2.06 2.06-.94-2.06-.94-.94-2.06-.94 2.06-2.06.94z\"/><path d=\"M17.41 7.96l-1.37-1.37c-.4-.4-.92-.59-1.43-.59-.52 0-1.04.2-1.43.59L10.3 9.45l-7.72 7.72c-.78.78-.78 2.05 0 2.83L4 21.41c.39.39.9.59 1.41.59.51 0 1.02-.2 1.41-.59l7.78-7.78 2.81-2.81c.8-.78.8-2.07 0-2.86zM5.41 20L4 18.59l7.72-7.72 1.47 1.35L5.41 20z\"/>\n",
              "  </svg>\n",
              "      </button>\n",
              "      \n",
              "  <style>\n",
              "    .colab-df-container {\n",
              "      display:flex;\n",
              "      flex-wrap:wrap;\n",
              "      gap: 12px;\n",
              "    }\n",
              "\n",
              "    .colab-df-convert {\n",
              "      background-color: #E8F0FE;\n",
              "      border: none;\n",
              "      border-radius: 50%;\n",
              "      cursor: pointer;\n",
              "      display: none;\n",
              "      fill: #1967D2;\n",
              "      height: 32px;\n",
              "      padding: 0 0 0 0;\n",
              "      width: 32px;\n",
              "    }\n",
              "\n",
              "    .colab-df-convert:hover {\n",
              "      background-color: #E2EBFA;\n",
              "      box-shadow: 0px 1px 2px rgba(60, 64, 67, 0.3), 0px 1px 3px 1px rgba(60, 64, 67, 0.15);\n",
              "      fill: #174EA6;\n",
              "    }\n",
              "\n",
              "    [theme=dark] .colab-df-convert {\n",
              "      background-color: #3B4455;\n",
              "      fill: #D2E3FC;\n",
              "    }\n",
              "\n",
              "    [theme=dark] .colab-df-convert:hover {\n",
              "      background-color: #434B5C;\n",
              "      box-shadow: 0px 1px 3px 1px rgba(0, 0, 0, 0.15);\n",
              "      filter: drop-shadow(0px 1px 2px rgba(0, 0, 0, 0.3));\n",
              "      fill: #FFFFFF;\n",
              "    }\n",
              "  </style>\n",
              "\n",
              "      <script>\n",
              "        const buttonEl =\n",
              "          document.querySelector('#df-a54fb7cc-ee16-4ae1-9d7d-c789df63c357 button.colab-df-convert');\n",
              "        buttonEl.style.display =\n",
              "          google.colab.kernel.accessAllowed ? 'block' : 'none';\n",
              "\n",
              "        async function convertToInteractive(key) {\n",
              "          const element = document.querySelector('#df-a54fb7cc-ee16-4ae1-9d7d-c789df63c357');\n",
              "          const dataTable =\n",
              "            await google.colab.kernel.invokeFunction('convertToInteractive',\n",
              "                                                     [key], {});\n",
              "          if (!dataTable) return;\n",
              "\n",
              "          const docLinkHtml = 'Like what you see? Visit the ' +\n",
              "            '<a target=\"_blank\" href=https://colab.research.google.com/notebooks/data_table.ipynb>data table notebook</a>'\n",
              "            + ' to learn more about interactive tables.';\n",
              "          element.innerHTML = '';\n",
              "          dataTable['output_type'] = 'display_data';\n",
              "          await google.colab.output.renderOutput(dataTable, element);\n",
              "          const docLink = document.createElement('div');\n",
              "          docLink.innerHTML = docLinkHtml;\n",
              "          element.appendChild(docLink);\n",
              "        }\n",
              "      </script>\n",
              "    </div>\n",
              "  </div>\n",
              "  "
            ]
          },
          "metadata": {},
          "execution_count": 300
        }
      ]
    },
    {
      "cell_type": "code",
      "source": [
        "a = df_F.sort_values(by=\"proba\", ascending=False).groupby([\"rcNo\", \"rcDate\"]).head(3) \n",
        "a = a.sort_values(by=[\"rcDate\", \"rcNo\"], ascending=[True, True])\n"
      ],
      "metadata": {
        "id": "-K6CodDovfFB"
      },
      "execution_count": 355,
      "outputs": []
    },
    {
      "cell_type": "code",
      "source": [
        "a # 각 날짜별 레이싱마다 TOP 3 마번 "
      ],
      "metadata": {
        "colab": {
          "base_uri": "https://localhost:8080/",
          "height": 424
        },
        "id": "HDl0__xyATEZ",
        "outputId": "d8929800-b13c-4c76-b400-115904685e8a"
      },
      "execution_count": 360,
      "outputs": [
        {
          "output_type": "execute_result",
          "data": {
            "text/plain": [
              "       rcDate  rcNo  chulNo     proba\n",
              "5    20220107     1       6  0.420487\n",
              "3    20220107     1       4  0.317817\n",
              "4    20220107     1       5  0.299571\n",
              "12   20220107     2       6  0.551332\n",
              "9    20220107     2       3  0.276990\n",
              "..        ...   ...     ...       ...\n",
              "630  20220130     5       4  0.360000\n",
              "629  20220130     5       3  0.343246\n",
              "642  20220130     6       2  0.494000\n",
              "643  20220130     6       3  0.360000\n",
              "641  20220130     6       1  0.332000\n",
              "\n",
              "[168 rows x 4 columns]"
            ],
            "text/html": [
              "\n",
              "  <div id=\"df-fb79abdc-9cf4-41f1-a7af-8627c2fbac3f\">\n",
              "    <div class=\"colab-df-container\">\n",
              "      <div>\n",
              "<style scoped>\n",
              "    .dataframe tbody tr th:only-of-type {\n",
              "        vertical-align: middle;\n",
              "    }\n",
              "\n",
              "    .dataframe tbody tr th {\n",
              "        vertical-align: top;\n",
              "    }\n",
              "\n",
              "    .dataframe thead th {\n",
              "        text-align: right;\n",
              "    }\n",
              "</style>\n",
              "<table border=\"1\" class=\"dataframe\">\n",
              "  <thead>\n",
              "    <tr style=\"text-align: right;\">\n",
              "      <th></th>\n",
              "      <th>rcDate</th>\n",
              "      <th>rcNo</th>\n",
              "      <th>chulNo</th>\n",
              "      <th>proba</th>\n",
              "    </tr>\n",
              "  </thead>\n",
              "  <tbody>\n",
              "    <tr>\n",
              "      <th>5</th>\n",
              "      <td>20220107</td>\n",
              "      <td>1</td>\n",
              "      <td>6</td>\n",
              "      <td>0.420487</td>\n",
              "    </tr>\n",
              "    <tr>\n",
              "      <th>3</th>\n",
              "      <td>20220107</td>\n",
              "      <td>1</td>\n",
              "      <td>4</td>\n",
              "      <td>0.317817</td>\n",
              "    </tr>\n",
              "    <tr>\n",
              "      <th>4</th>\n",
              "      <td>20220107</td>\n",
              "      <td>1</td>\n",
              "      <td>5</td>\n",
              "      <td>0.299571</td>\n",
              "    </tr>\n",
              "    <tr>\n",
              "      <th>12</th>\n",
              "      <td>20220107</td>\n",
              "      <td>2</td>\n",
              "      <td>6</td>\n",
              "      <td>0.551332</td>\n",
              "    </tr>\n",
              "    <tr>\n",
              "      <th>9</th>\n",
              "      <td>20220107</td>\n",
              "      <td>2</td>\n",
              "      <td>3</td>\n",
              "      <td>0.276990</td>\n",
              "    </tr>\n",
              "    <tr>\n",
              "      <th>...</th>\n",
              "      <td>...</td>\n",
              "      <td>...</td>\n",
              "      <td>...</td>\n",
              "      <td>...</td>\n",
              "    </tr>\n",
              "    <tr>\n",
              "      <th>630</th>\n",
              "      <td>20220130</td>\n",
              "      <td>5</td>\n",
              "      <td>4</td>\n",
              "      <td>0.360000</td>\n",
              "    </tr>\n",
              "    <tr>\n",
              "      <th>629</th>\n",
              "      <td>20220130</td>\n",
              "      <td>5</td>\n",
              "      <td>3</td>\n",
              "      <td>0.343246</td>\n",
              "    </tr>\n",
              "    <tr>\n",
              "      <th>642</th>\n",
              "      <td>20220130</td>\n",
              "      <td>6</td>\n",
              "      <td>2</td>\n",
              "      <td>0.494000</td>\n",
              "    </tr>\n",
              "    <tr>\n",
              "      <th>643</th>\n",
              "      <td>20220130</td>\n",
              "      <td>6</td>\n",
              "      <td>3</td>\n",
              "      <td>0.360000</td>\n",
              "    </tr>\n",
              "    <tr>\n",
              "      <th>641</th>\n",
              "      <td>20220130</td>\n",
              "      <td>6</td>\n",
              "      <td>1</td>\n",
              "      <td>0.332000</td>\n",
              "    </tr>\n",
              "  </tbody>\n",
              "</table>\n",
              "<p>168 rows × 4 columns</p>\n",
              "</div>\n",
              "      <button class=\"colab-df-convert\" onclick=\"convertToInteractive('df-fb79abdc-9cf4-41f1-a7af-8627c2fbac3f')\"\n",
              "              title=\"Convert this dataframe to an interactive table.\"\n",
              "              style=\"display:none;\">\n",
              "        \n",
              "  <svg xmlns=\"http://www.w3.org/2000/svg\" height=\"24px\"viewBox=\"0 0 24 24\"\n",
              "       width=\"24px\">\n",
              "    <path d=\"M0 0h24v24H0V0z\" fill=\"none\"/>\n",
              "    <path d=\"M18.56 5.44l.94 2.06.94-2.06 2.06-.94-2.06-.94-.94-2.06-.94 2.06-2.06.94zm-11 1L8.5 8.5l.94-2.06 2.06-.94-2.06-.94L8.5 2.5l-.94 2.06-2.06.94zm10 10l.94 2.06.94-2.06 2.06-.94-2.06-.94-.94-2.06-.94 2.06-2.06.94z\"/><path d=\"M17.41 7.96l-1.37-1.37c-.4-.4-.92-.59-1.43-.59-.52 0-1.04.2-1.43.59L10.3 9.45l-7.72 7.72c-.78.78-.78 2.05 0 2.83L4 21.41c.39.39.9.59 1.41.59.51 0 1.02-.2 1.41-.59l7.78-7.78 2.81-2.81c.8-.78.8-2.07 0-2.86zM5.41 20L4 18.59l7.72-7.72 1.47 1.35L5.41 20z\"/>\n",
              "  </svg>\n",
              "      </button>\n",
              "      \n",
              "  <style>\n",
              "    .colab-df-container {\n",
              "      display:flex;\n",
              "      flex-wrap:wrap;\n",
              "      gap: 12px;\n",
              "    }\n",
              "\n",
              "    .colab-df-convert {\n",
              "      background-color: #E8F0FE;\n",
              "      border: none;\n",
              "      border-radius: 50%;\n",
              "      cursor: pointer;\n",
              "      display: none;\n",
              "      fill: #1967D2;\n",
              "      height: 32px;\n",
              "      padding: 0 0 0 0;\n",
              "      width: 32px;\n",
              "    }\n",
              "\n",
              "    .colab-df-convert:hover {\n",
              "      background-color: #E2EBFA;\n",
              "      box-shadow: 0px 1px 2px rgba(60, 64, 67, 0.3), 0px 1px 3px 1px rgba(60, 64, 67, 0.15);\n",
              "      fill: #174EA6;\n",
              "    }\n",
              "\n",
              "    [theme=dark] .colab-df-convert {\n",
              "      background-color: #3B4455;\n",
              "      fill: #D2E3FC;\n",
              "    }\n",
              "\n",
              "    [theme=dark] .colab-df-convert:hover {\n",
              "      background-color: #434B5C;\n",
              "      box-shadow: 0px 1px 3px 1px rgba(0, 0, 0, 0.15);\n",
              "      filter: drop-shadow(0px 1px 2px rgba(0, 0, 0, 0.3));\n",
              "      fill: #FFFFFF;\n",
              "    }\n",
              "  </style>\n",
              "\n",
              "      <script>\n",
              "        const buttonEl =\n",
              "          document.querySelector('#df-fb79abdc-9cf4-41f1-a7af-8627c2fbac3f button.colab-df-convert');\n",
              "        buttonEl.style.display =\n",
              "          google.colab.kernel.accessAllowed ? 'block' : 'none';\n",
              "\n",
              "        async function convertToInteractive(key) {\n",
              "          const element = document.querySelector('#df-fb79abdc-9cf4-41f1-a7af-8627c2fbac3f');\n",
              "          const dataTable =\n",
              "            await google.colab.kernel.invokeFunction('convertToInteractive',\n",
              "                                                     [key], {});\n",
              "          if (!dataTable) return;\n",
              "\n",
              "          const docLinkHtml = 'Like what you see? Visit the ' +\n",
              "            '<a target=\"_blank\" href=https://colab.research.google.com/notebooks/data_table.ipynb>data table notebook</a>'\n",
              "            + ' to learn more about interactive tables.';\n",
              "          element.innerHTML = '';\n",
              "          dataTable['output_type'] = 'display_data';\n",
              "          await google.colab.output.renderOutput(dataTable, element);\n",
              "          const docLink = document.createElement('div');\n",
              "          docLink.innerHTML = docLinkHtml;\n",
              "          element.appendChild(docLink);\n",
              "        }\n",
              "      </script>\n",
              "    </div>\n",
              "  </div>\n",
              "  "
            ]
          },
          "metadata": {},
          "execution_count": 360
        }
      ]
    },
    {
      "cell_type": "code",
      "source": [
        "f1 = lambda x : str(x.iloc[0]) + '-' + str(x.iloc[2])\n",
        "f2 = lambda x : str(x.iloc[0]) + '-' + str(x.iloc[1])\n",
        "f3 = lambda x : str(x.iloc[1]) + '-' + str(x.iloc[2])\n",
        "d = a.groupby([\"rcNo\", \"rcDate\"])['chulNo'].apply(f1) \n",
        "k = a.groupby([\"rcNo\", \"rcDate\"])['chulNo'].apply(f2) \n",
        "g = a.groupby([\"rcNo\", \"rcDate\"])['chulNo'].apply(f3) "
      ],
      "metadata": {
        "id": "14msaLzou9Zp"
      },
      "execution_count": 375,
      "outputs": []
    },
    {
      "cell_type": "code",
      "source": [
        "q = pd.concat([d, k, g], axis=1, keys=['pred1', 'pred2','pred3'])\n",
        "z = q.reset_index(col_level=1)\n",
        "z"
      ],
      "metadata": {
        "colab": {
          "base_uri": "https://localhost:8080/",
          "height": 1000
        },
        "id": "OwkMhh51C875",
        "outputId": "f6c6ef57-4268-4bd7-82d6-8d07098f1a13"
      },
      "execution_count": 383,
      "outputs": [
        {
          "output_type": "execute_result",
          "data": {
            "text/plain": [
              "    rcNo    rcDate  pred1 pred2 pred3\n",
              "0      1  20220107    6-5   6-4   4-5\n",
              "1      1  20220109    2-3   2-9   9-3\n",
              "2      1  20220114    2-7   2-8   8-7\n",
              "3      1  20220116  11-12  11-5  5-12\n",
              "4      1  20220121    5-3   5-1   1-3\n",
              "5      1  20220123    1-5   1-2   2-5\n",
              "6      1  20220128    8-2  8-12  12-2\n",
              "7      1  20220130   7-12   7-5  5-12\n",
              "8      2  20220107    6-1   6-3   3-1\n",
              "9      2  20220109    8-9   8-1   1-9\n",
              "10     2  20220114    6-2   6-4   4-2\n",
              "11     2  20220116    5-2   5-1   1-2\n",
              "12     2  20220121    6-4  6-14  14-4\n",
              "13     2  20220123  12-13  12-4  4-13\n",
              "14     2  20220128    8-1   8-3   3-1\n",
              "15     2  20220130    6-3  6-10  10-3\n",
              "16     3  20220107   5-12   5-7  7-12\n",
              "17     3  20220109    6-7  6-10  10-7\n",
              "18     3  20220114    2-3   2-4   4-3\n",
              "19     3  20220116    3-1   3-2   2-1\n",
              "20     3  20220121   2-11   2-1  1-11\n",
              "21     3  20220123    2-6   2-1   1-6\n",
              "22     3  20220128    1-8   1-4   4-8\n",
              "23     3  20220130   6-10   6-1  1-10\n",
              "24     4  20220107    7-2   7-4   4-2\n",
              "25     4  20220109    5-4   5-2   2-4\n",
              "26     4  20220114   9-10   9-4  4-10\n",
              "27     4  20220116    1-8   1-7   7-8\n",
              "28     4  20220121    6-9   6-2   2-9\n",
              "29     4  20220123    2-7   2-1   1-7\n",
              "30     4  20220128    9-7   9-1   1-7\n",
              "31     4  20220130    4-9   4-8   8-9\n",
              "32     5  20220107    1-9   1-4   4-9\n",
              "33     5  20220109    2-9   2-1   1-9\n",
              "34     5  20220114    5-9   5-6   6-9\n",
              "35     5  20220116    5-7   5-4   4-7\n",
              "36     5  20220121   3-13   3-8  8-13\n",
              "37     5  20220123   9-14   9-5  5-14\n",
              "38     5  20220128    3-6   3-4   4-6\n",
              "39     5  20220130    8-3   8-4   4-3\n",
              "40     6  20220107   11-7  11-3   3-7\n",
              "41     6  20220109   7-14   7-3  3-14\n",
              "42     6  20220114    4-3   4-8   8-3\n",
              "43     6  20220116   11-6  11-5   5-6\n",
              "44     6  20220121   10-1  10-8   8-1\n",
              "45     6  20220123    5-6   5-4   4-6\n",
              "46     6  20220128   8-10   8-4  4-10\n",
              "47     6  20220130    2-1   2-3   3-1\n",
              "48     7  20220107    1-9  1-10  10-9\n",
              "49     7  20220114    2-7   2-6   6-7\n",
              "50     7  20220121    6-8   6-4   4-8\n",
              "51     7  20220128    2-1   2-3   3-1\n",
              "52     8  20220107    4-6   4-2   2-6\n",
              "53     8  20220114   10-1  10-3   3-1\n",
              "54     8  20220121    9-5   9-4   4-5\n",
              "55     8  20220128    4-2   4-7   7-2"
            ],
            "text/html": [
              "\n",
              "  <div id=\"df-1e0ec532-8983-4339-bd1e-4a3e80e7c9e6\">\n",
              "    <div class=\"colab-df-container\">\n",
              "      <div>\n",
              "<style scoped>\n",
              "    .dataframe tbody tr th:only-of-type {\n",
              "        vertical-align: middle;\n",
              "    }\n",
              "\n",
              "    .dataframe tbody tr th {\n",
              "        vertical-align: top;\n",
              "    }\n",
              "\n",
              "    .dataframe thead th {\n",
              "        text-align: right;\n",
              "    }\n",
              "</style>\n",
              "<table border=\"1\" class=\"dataframe\">\n",
              "  <thead>\n",
              "    <tr style=\"text-align: right;\">\n",
              "      <th></th>\n",
              "      <th>rcNo</th>\n",
              "      <th>rcDate</th>\n",
              "      <th>pred1</th>\n",
              "      <th>pred2</th>\n",
              "      <th>pred3</th>\n",
              "    </tr>\n",
              "  </thead>\n",
              "  <tbody>\n",
              "    <tr>\n",
              "      <th>0</th>\n",
              "      <td>1</td>\n",
              "      <td>20220107</td>\n",
              "      <td>6-5</td>\n",
              "      <td>6-4</td>\n",
              "      <td>4-5</td>\n",
              "    </tr>\n",
              "    <tr>\n",
              "      <th>1</th>\n",
              "      <td>1</td>\n",
              "      <td>20220109</td>\n",
              "      <td>2-3</td>\n",
              "      <td>2-9</td>\n",
              "      <td>9-3</td>\n",
              "    </tr>\n",
              "    <tr>\n",
              "      <th>2</th>\n",
              "      <td>1</td>\n",
              "      <td>20220114</td>\n",
              "      <td>2-7</td>\n",
              "      <td>2-8</td>\n",
              "      <td>8-7</td>\n",
              "    </tr>\n",
              "    <tr>\n",
              "      <th>3</th>\n",
              "      <td>1</td>\n",
              "      <td>20220116</td>\n",
              "      <td>11-12</td>\n",
              "      <td>11-5</td>\n",
              "      <td>5-12</td>\n",
              "    </tr>\n",
              "    <tr>\n",
              "      <th>4</th>\n",
              "      <td>1</td>\n",
              "      <td>20220121</td>\n",
              "      <td>5-3</td>\n",
              "      <td>5-1</td>\n",
              "      <td>1-3</td>\n",
              "    </tr>\n",
              "    <tr>\n",
              "      <th>5</th>\n",
              "      <td>1</td>\n",
              "      <td>20220123</td>\n",
              "      <td>1-5</td>\n",
              "      <td>1-2</td>\n",
              "      <td>2-5</td>\n",
              "    </tr>\n",
              "    <tr>\n",
              "      <th>6</th>\n",
              "      <td>1</td>\n",
              "      <td>20220128</td>\n",
              "      <td>8-2</td>\n",
              "      <td>8-12</td>\n",
              "      <td>12-2</td>\n",
              "    </tr>\n",
              "    <tr>\n",
              "      <th>7</th>\n",
              "      <td>1</td>\n",
              "      <td>20220130</td>\n",
              "      <td>7-12</td>\n",
              "      <td>7-5</td>\n",
              "      <td>5-12</td>\n",
              "    </tr>\n",
              "    <tr>\n",
              "      <th>8</th>\n",
              "      <td>2</td>\n",
              "      <td>20220107</td>\n",
              "      <td>6-1</td>\n",
              "      <td>6-3</td>\n",
              "      <td>3-1</td>\n",
              "    </tr>\n",
              "    <tr>\n",
              "      <th>9</th>\n",
              "      <td>2</td>\n",
              "      <td>20220109</td>\n",
              "      <td>8-9</td>\n",
              "      <td>8-1</td>\n",
              "      <td>1-9</td>\n",
              "    </tr>\n",
              "    <tr>\n",
              "      <th>10</th>\n",
              "      <td>2</td>\n",
              "      <td>20220114</td>\n",
              "      <td>6-2</td>\n",
              "      <td>6-4</td>\n",
              "      <td>4-2</td>\n",
              "    </tr>\n",
              "    <tr>\n",
              "      <th>11</th>\n",
              "      <td>2</td>\n",
              "      <td>20220116</td>\n",
              "      <td>5-2</td>\n",
              "      <td>5-1</td>\n",
              "      <td>1-2</td>\n",
              "    </tr>\n",
              "    <tr>\n",
              "      <th>12</th>\n",
              "      <td>2</td>\n",
              "      <td>20220121</td>\n",
              "      <td>6-4</td>\n",
              "      <td>6-14</td>\n",
              "      <td>14-4</td>\n",
              "    </tr>\n",
              "    <tr>\n",
              "      <th>13</th>\n",
              "      <td>2</td>\n",
              "      <td>20220123</td>\n",
              "      <td>12-13</td>\n",
              "      <td>12-4</td>\n",
              "      <td>4-13</td>\n",
              "    </tr>\n",
              "    <tr>\n",
              "      <th>14</th>\n",
              "      <td>2</td>\n",
              "      <td>20220128</td>\n",
              "      <td>8-1</td>\n",
              "      <td>8-3</td>\n",
              "      <td>3-1</td>\n",
              "    </tr>\n",
              "    <tr>\n",
              "      <th>15</th>\n",
              "      <td>2</td>\n",
              "      <td>20220130</td>\n",
              "      <td>6-3</td>\n",
              "      <td>6-10</td>\n",
              "      <td>10-3</td>\n",
              "    </tr>\n",
              "    <tr>\n",
              "      <th>16</th>\n",
              "      <td>3</td>\n",
              "      <td>20220107</td>\n",
              "      <td>5-12</td>\n",
              "      <td>5-7</td>\n",
              "      <td>7-12</td>\n",
              "    </tr>\n",
              "    <tr>\n",
              "      <th>17</th>\n",
              "      <td>3</td>\n",
              "      <td>20220109</td>\n",
              "      <td>6-7</td>\n",
              "      <td>6-10</td>\n",
              "      <td>10-7</td>\n",
              "    </tr>\n",
              "    <tr>\n",
              "      <th>18</th>\n",
              "      <td>3</td>\n",
              "      <td>20220114</td>\n",
              "      <td>2-3</td>\n",
              "      <td>2-4</td>\n",
              "      <td>4-3</td>\n",
              "    </tr>\n",
              "    <tr>\n",
              "      <th>19</th>\n",
              "      <td>3</td>\n",
              "      <td>20220116</td>\n",
              "      <td>3-1</td>\n",
              "      <td>3-2</td>\n",
              "      <td>2-1</td>\n",
              "    </tr>\n",
              "    <tr>\n",
              "      <th>20</th>\n",
              "      <td>3</td>\n",
              "      <td>20220121</td>\n",
              "      <td>2-11</td>\n",
              "      <td>2-1</td>\n",
              "      <td>1-11</td>\n",
              "    </tr>\n",
              "    <tr>\n",
              "      <th>21</th>\n",
              "      <td>3</td>\n",
              "      <td>20220123</td>\n",
              "      <td>2-6</td>\n",
              "      <td>2-1</td>\n",
              "      <td>1-6</td>\n",
              "    </tr>\n",
              "    <tr>\n",
              "      <th>22</th>\n",
              "      <td>3</td>\n",
              "      <td>20220128</td>\n",
              "      <td>1-8</td>\n",
              "      <td>1-4</td>\n",
              "      <td>4-8</td>\n",
              "    </tr>\n",
              "    <tr>\n",
              "      <th>23</th>\n",
              "      <td>3</td>\n",
              "      <td>20220130</td>\n",
              "      <td>6-10</td>\n",
              "      <td>6-1</td>\n",
              "      <td>1-10</td>\n",
              "    </tr>\n",
              "    <tr>\n",
              "      <th>24</th>\n",
              "      <td>4</td>\n",
              "      <td>20220107</td>\n",
              "      <td>7-2</td>\n",
              "      <td>7-4</td>\n",
              "      <td>4-2</td>\n",
              "    </tr>\n",
              "    <tr>\n",
              "      <th>25</th>\n",
              "      <td>4</td>\n",
              "      <td>20220109</td>\n",
              "      <td>5-4</td>\n",
              "      <td>5-2</td>\n",
              "      <td>2-4</td>\n",
              "    </tr>\n",
              "    <tr>\n",
              "      <th>26</th>\n",
              "      <td>4</td>\n",
              "      <td>20220114</td>\n",
              "      <td>9-10</td>\n",
              "      <td>9-4</td>\n",
              "      <td>4-10</td>\n",
              "    </tr>\n",
              "    <tr>\n",
              "      <th>27</th>\n",
              "      <td>4</td>\n",
              "      <td>20220116</td>\n",
              "      <td>1-8</td>\n",
              "      <td>1-7</td>\n",
              "      <td>7-8</td>\n",
              "    </tr>\n",
              "    <tr>\n",
              "      <th>28</th>\n",
              "      <td>4</td>\n",
              "      <td>20220121</td>\n",
              "      <td>6-9</td>\n",
              "      <td>6-2</td>\n",
              "      <td>2-9</td>\n",
              "    </tr>\n",
              "    <tr>\n",
              "      <th>29</th>\n",
              "      <td>4</td>\n",
              "      <td>20220123</td>\n",
              "      <td>2-7</td>\n",
              "      <td>2-1</td>\n",
              "      <td>1-7</td>\n",
              "    </tr>\n",
              "    <tr>\n",
              "      <th>30</th>\n",
              "      <td>4</td>\n",
              "      <td>20220128</td>\n",
              "      <td>9-7</td>\n",
              "      <td>9-1</td>\n",
              "      <td>1-7</td>\n",
              "    </tr>\n",
              "    <tr>\n",
              "      <th>31</th>\n",
              "      <td>4</td>\n",
              "      <td>20220130</td>\n",
              "      <td>4-9</td>\n",
              "      <td>4-8</td>\n",
              "      <td>8-9</td>\n",
              "    </tr>\n",
              "    <tr>\n",
              "      <th>32</th>\n",
              "      <td>5</td>\n",
              "      <td>20220107</td>\n",
              "      <td>1-9</td>\n",
              "      <td>1-4</td>\n",
              "      <td>4-9</td>\n",
              "    </tr>\n",
              "    <tr>\n",
              "      <th>33</th>\n",
              "      <td>5</td>\n",
              "      <td>20220109</td>\n",
              "      <td>2-9</td>\n",
              "      <td>2-1</td>\n",
              "      <td>1-9</td>\n",
              "    </tr>\n",
              "    <tr>\n",
              "      <th>34</th>\n",
              "      <td>5</td>\n",
              "      <td>20220114</td>\n",
              "      <td>5-9</td>\n",
              "      <td>5-6</td>\n",
              "      <td>6-9</td>\n",
              "    </tr>\n",
              "    <tr>\n",
              "      <th>35</th>\n",
              "      <td>5</td>\n",
              "      <td>20220116</td>\n",
              "      <td>5-7</td>\n",
              "      <td>5-4</td>\n",
              "      <td>4-7</td>\n",
              "    </tr>\n",
              "    <tr>\n",
              "      <th>36</th>\n",
              "      <td>5</td>\n",
              "      <td>20220121</td>\n",
              "      <td>3-13</td>\n",
              "      <td>3-8</td>\n",
              "      <td>8-13</td>\n",
              "    </tr>\n",
              "    <tr>\n",
              "      <th>37</th>\n",
              "      <td>5</td>\n",
              "      <td>20220123</td>\n",
              "      <td>9-14</td>\n",
              "      <td>9-5</td>\n",
              "      <td>5-14</td>\n",
              "    </tr>\n",
              "    <tr>\n",
              "      <th>38</th>\n",
              "      <td>5</td>\n",
              "      <td>20220128</td>\n",
              "      <td>3-6</td>\n",
              "      <td>3-4</td>\n",
              "      <td>4-6</td>\n",
              "    </tr>\n",
              "    <tr>\n",
              "      <th>39</th>\n",
              "      <td>5</td>\n",
              "      <td>20220130</td>\n",
              "      <td>8-3</td>\n",
              "      <td>8-4</td>\n",
              "      <td>4-3</td>\n",
              "    </tr>\n",
              "    <tr>\n",
              "      <th>40</th>\n",
              "      <td>6</td>\n",
              "      <td>20220107</td>\n",
              "      <td>11-7</td>\n",
              "      <td>11-3</td>\n",
              "      <td>3-7</td>\n",
              "    </tr>\n",
              "    <tr>\n",
              "      <th>41</th>\n",
              "      <td>6</td>\n",
              "      <td>20220109</td>\n",
              "      <td>7-14</td>\n",
              "      <td>7-3</td>\n",
              "      <td>3-14</td>\n",
              "    </tr>\n",
              "    <tr>\n",
              "      <th>42</th>\n",
              "      <td>6</td>\n",
              "      <td>20220114</td>\n",
              "      <td>4-3</td>\n",
              "      <td>4-8</td>\n",
              "      <td>8-3</td>\n",
              "    </tr>\n",
              "    <tr>\n",
              "      <th>43</th>\n",
              "      <td>6</td>\n",
              "      <td>20220116</td>\n",
              "      <td>11-6</td>\n",
              "      <td>11-5</td>\n",
              "      <td>5-6</td>\n",
              "    </tr>\n",
              "    <tr>\n",
              "      <th>44</th>\n",
              "      <td>6</td>\n",
              "      <td>20220121</td>\n",
              "      <td>10-1</td>\n",
              "      <td>10-8</td>\n",
              "      <td>8-1</td>\n",
              "    </tr>\n",
              "    <tr>\n",
              "      <th>45</th>\n",
              "      <td>6</td>\n",
              "      <td>20220123</td>\n",
              "      <td>5-6</td>\n",
              "      <td>5-4</td>\n",
              "      <td>4-6</td>\n",
              "    </tr>\n",
              "    <tr>\n",
              "      <th>46</th>\n",
              "      <td>6</td>\n",
              "      <td>20220128</td>\n",
              "      <td>8-10</td>\n",
              "      <td>8-4</td>\n",
              "      <td>4-10</td>\n",
              "    </tr>\n",
              "    <tr>\n",
              "      <th>47</th>\n",
              "      <td>6</td>\n",
              "      <td>20220130</td>\n",
              "      <td>2-1</td>\n",
              "      <td>2-3</td>\n",
              "      <td>3-1</td>\n",
              "    </tr>\n",
              "    <tr>\n",
              "      <th>48</th>\n",
              "      <td>7</td>\n",
              "      <td>20220107</td>\n",
              "      <td>1-9</td>\n",
              "      <td>1-10</td>\n",
              "      <td>10-9</td>\n",
              "    </tr>\n",
              "    <tr>\n",
              "      <th>49</th>\n",
              "      <td>7</td>\n",
              "      <td>20220114</td>\n",
              "      <td>2-7</td>\n",
              "      <td>2-6</td>\n",
              "      <td>6-7</td>\n",
              "    </tr>\n",
              "    <tr>\n",
              "      <th>50</th>\n",
              "      <td>7</td>\n",
              "      <td>20220121</td>\n",
              "      <td>6-8</td>\n",
              "      <td>6-4</td>\n",
              "      <td>4-8</td>\n",
              "    </tr>\n",
              "    <tr>\n",
              "      <th>51</th>\n",
              "      <td>7</td>\n",
              "      <td>20220128</td>\n",
              "      <td>2-1</td>\n",
              "      <td>2-3</td>\n",
              "      <td>3-1</td>\n",
              "    </tr>\n",
              "    <tr>\n",
              "      <th>52</th>\n",
              "      <td>8</td>\n",
              "      <td>20220107</td>\n",
              "      <td>4-6</td>\n",
              "      <td>4-2</td>\n",
              "      <td>2-6</td>\n",
              "    </tr>\n",
              "    <tr>\n",
              "      <th>53</th>\n",
              "      <td>8</td>\n",
              "      <td>20220114</td>\n",
              "      <td>10-1</td>\n",
              "      <td>10-3</td>\n",
              "      <td>3-1</td>\n",
              "    </tr>\n",
              "    <tr>\n",
              "      <th>54</th>\n",
              "      <td>8</td>\n",
              "      <td>20220121</td>\n",
              "      <td>9-5</td>\n",
              "      <td>9-4</td>\n",
              "      <td>4-5</td>\n",
              "    </tr>\n",
              "    <tr>\n",
              "      <th>55</th>\n",
              "      <td>8</td>\n",
              "      <td>20220128</td>\n",
              "      <td>4-2</td>\n",
              "      <td>4-7</td>\n",
              "      <td>7-2</td>\n",
              "    </tr>\n",
              "  </tbody>\n",
              "</table>\n",
              "</div>\n",
              "      <button class=\"colab-df-convert\" onclick=\"convertToInteractive('df-1e0ec532-8983-4339-bd1e-4a3e80e7c9e6')\"\n",
              "              title=\"Convert this dataframe to an interactive table.\"\n",
              "              style=\"display:none;\">\n",
              "        \n",
              "  <svg xmlns=\"http://www.w3.org/2000/svg\" height=\"24px\"viewBox=\"0 0 24 24\"\n",
              "       width=\"24px\">\n",
              "    <path d=\"M0 0h24v24H0V0z\" fill=\"none\"/>\n",
              "    <path d=\"M18.56 5.44l.94 2.06.94-2.06 2.06-.94-2.06-.94-.94-2.06-.94 2.06-2.06.94zm-11 1L8.5 8.5l.94-2.06 2.06-.94-2.06-.94L8.5 2.5l-.94 2.06-2.06.94zm10 10l.94 2.06.94-2.06 2.06-.94-2.06-.94-.94-2.06-.94 2.06-2.06.94z\"/><path d=\"M17.41 7.96l-1.37-1.37c-.4-.4-.92-.59-1.43-.59-.52 0-1.04.2-1.43.59L10.3 9.45l-7.72 7.72c-.78.78-.78 2.05 0 2.83L4 21.41c.39.39.9.59 1.41.59.51 0 1.02-.2 1.41-.59l7.78-7.78 2.81-2.81c.8-.78.8-2.07 0-2.86zM5.41 20L4 18.59l7.72-7.72 1.47 1.35L5.41 20z\"/>\n",
              "  </svg>\n",
              "      </button>\n",
              "      \n",
              "  <style>\n",
              "    .colab-df-container {\n",
              "      display:flex;\n",
              "      flex-wrap:wrap;\n",
              "      gap: 12px;\n",
              "    }\n",
              "\n",
              "    .colab-df-convert {\n",
              "      background-color: #E8F0FE;\n",
              "      border: none;\n",
              "      border-radius: 50%;\n",
              "      cursor: pointer;\n",
              "      display: none;\n",
              "      fill: #1967D2;\n",
              "      height: 32px;\n",
              "      padding: 0 0 0 0;\n",
              "      width: 32px;\n",
              "    }\n",
              "\n",
              "    .colab-df-convert:hover {\n",
              "      background-color: #E2EBFA;\n",
              "      box-shadow: 0px 1px 2px rgba(60, 64, 67, 0.3), 0px 1px 3px 1px rgba(60, 64, 67, 0.15);\n",
              "      fill: #174EA6;\n",
              "    }\n",
              "\n",
              "    [theme=dark] .colab-df-convert {\n",
              "      background-color: #3B4455;\n",
              "      fill: #D2E3FC;\n",
              "    }\n",
              "\n",
              "    [theme=dark] .colab-df-convert:hover {\n",
              "      background-color: #434B5C;\n",
              "      box-shadow: 0px 1px 3px 1px rgba(0, 0, 0, 0.15);\n",
              "      filter: drop-shadow(0px 1px 2px rgba(0, 0, 0, 0.3));\n",
              "      fill: #FFFFFF;\n",
              "    }\n",
              "  </style>\n",
              "\n",
              "      <script>\n",
              "        const buttonEl =\n",
              "          document.querySelector('#df-1e0ec532-8983-4339-bd1e-4a3e80e7c9e6 button.colab-df-convert');\n",
              "        buttonEl.style.display =\n",
              "          google.colab.kernel.accessAllowed ? 'block' : 'none';\n",
              "\n",
              "        async function convertToInteractive(key) {\n",
              "          const element = document.querySelector('#df-1e0ec532-8983-4339-bd1e-4a3e80e7c9e6');\n",
              "          const dataTable =\n",
              "            await google.colab.kernel.invokeFunction('convertToInteractive',\n",
              "                                                     [key], {});\n",
              "          if (!dataTable) return;\n",
              "\n",
              "          const docLinkHtml = 'Like what you see? Visit the ' +\n",
              "            '<a target=\"_blank\" href=https://colab.research.google.com/notebooks/data_table.ipynb>data table notebook</a>'\n",
              "            + ' to learn more about interactive tables.';\n",
              "          element.innerHTML = '';\n",
              "          dataTable['output_type'] = 'display_data';\n",
              "          await google.colab.output.renderOutput(dataTable, element);\n",
              "          const docLink = document.createElement('div');\n",
              "          docLink.innerHTML = docLinkHtml;\n",
              "          element.appendChild(docLink);\n",
              "        }\n",
              "      </script>\n",
              "    </div>\n",
              "  </div>\n",
              "  "
            ]
          },
          "metadata": {},
          "execution_count": 383
        }
      ]
    },
    {
      "cell_type": "code",
      "source": [
        "z = z.sort_values(by=[\"rcDate\", \"rcNo\"], ascending=[True, True])\n",
        "z = z[['rcDate', 'rcNo', 'pred1', 'pred2', 'pred3']] # 칼럼 위치 재배열"
      ],
      "metadata": {
        "id": "Dd9O_t34IbhV"
      },
      "execution_count": 386,
      "outputs": []
    },
    {
      "cell_type": "code",
      "source": [
        "z"
      ],
      "metadata": {
        "colab": {
          "base_uri": "https://localhost:8080/",
          "height": 1000
        },
        "id": "Z7d3--gVJOVn",
        "outputId": "43d4319d-85a3-4185-ce9b-5c1bd020e3ac"
      },
      "execution_count": 394,
      "outputs": [
        {
          "output_type": "execute_result",
          "data": {
            "text/plain": [
              "      rcDate  rcNo  pred1 pred2 pred3\n",
              "0   20220107     1    6-5   6-4   4-5\n",
              "8   20220107     2    6-1   6-3   3-1\n",
              "16  20220107     3   5-12   5-7  7-12\n",
              "24  20220107     4    7-2   7-4   4-2\n",
              "32  20220107     5    1-9   1-4   4-9\n",
              "40  20220107     6   11-7  11-3   3-7\n",
              "48  20220107     7    1-9  1-10  10-9\n",
              "52  20220107     8    4-6   4-2   2-6\n",
              "1   20220109     1    2-3   2-9   9-3\n",
              "9   20220109     2    8-9   8-1   1-9\n",
              "17  20220109     3    6-7  6-10  10-7\n",
              "25  20220109     4    5-4   5-2   2-4\n",
              "33  20220109     5    2-9   2-1   1-9\n",
              "41  20220109     6   7-14   7-3  3-14\n",
              "2   20220114     1    2-7   2-8   8-7\n",
              "10  20220114     2    6-2   6-4   4-2\n",
              "18  20220114     3    2-3   2-4   4-3\n",
              "26  20220114     4   9-10   9-4  4-10\n",
              "34  20220114     5    5-9   5-6   6-9\n",
              "42  20220114     6    4-3   4-8   8-3\n",
              "49  20220114     7    2-7   2-6   6-7\n",
              "53  20220114     8   10-1  10-3   3-1\n",
              "3   20220116     1  11-12  11-5  5-12\n",
              "11  20220116     2    5-2   5-1   1-2\n",
              "19  20220116     3    3-1   3-2   2-1\n",
              "27  20220116     4    1-8   1-7   7-8\n",
              "35  20220116     5    5-7   5-4   4-7\n",
              "43  20220116     6   11-6  11-5   5-6\n",
              "4   20220121     1    5-3   5-1   1-3\n",
              "12  20220121     2    6-4  6-14  14-4\n",
              "20  20220121     3   2-11   2-1  1-11\n",
              "28  20220121     4    6-9   6-2   2-9\n",
              "36  20220121     5   3-13   3-8  8-13\n",
              "44  20220121     6   10-1  10-8   8-1\n",
              "50  20220121     7    6-8   6-4   4-8\n",
              "54  20220121     8    9-5   9-4   4-5\n",
              "5   20220123     1    1-5   1-2   2-5\n",
              "13  20220123     2  12-13  12-4  4-13\n",
              "21  20220123     3    2-6   2-1   1-6\n",
              "29  20220123     4    2-7   2-1   1-7\n",
              "37  20220123     5   9-14   9-5  5-14\n",
              "45  20220123     6    5-6   5-4   4-6\n",
              "6   20220128     1    8-2  8-12  12-2\n",
              "14  20220128     2    8-1   8-3   3-1\n",
              "22  20220128     3    1-8   1-4   4-8\n",
              "30  20220128     4    9-7   9-1   1-7\n",
              "38  20220128     5    3-6   3-4   4-6\n",
              "46  20220128     6   8-10   8-4  4-10\n",
              "51  20220128     7    2-1   2-3   3-1\n",
              "55  20220128     8    4-2   4-7   7-2\n",
              "7   20220130     1   7-12   7-5  5-12\n",
              "15  20220130     2    6-3  6-10  10-3\n",
              "23  20220130     3   6-10   6-1  1-10\n",
              "31  20220130     4    4-9   4-8   8-9\n",
              "39  20220130     5    8-3   8-4   4-3\n",
              "47  20220130     6    2-1   2-3   3-1"
            ],
            "text/html": [
              "\n",
              "  <div id=\"df-5651a065-85e1-429b-bf50-deb469589557\">\n",
              "    <div class=\"colab-df-container\">\n",
              "      <div>\n",
              "<style scoped>\n",
              "    .dataframe tbody tr th:only-of-type {\n",
              "        vertical-align: middle;\n",
              "    }\n",
              "\n",
              "    .dataframe tbody tr th {\n",
              "        vertical-align: top;\n",
              "    }\n",
              "\n",
              "    .dataframe thead th {\n",
              "        text-align: right;\n",
              "    }\n",
              "</style>\n",
              "<table border=\"1\" class=\"dataframe\">\n",
              "  <thead>\n",
              "    <tr style=\"text-align: right;\">\n",
              "      <th></th>\n",
              "      <th>rcDate</th>\n",
              "      <th>rcNo</th>\n",
              "      <th>pred1</th>\n",
              "      <th>pred2</th>\n",
              "      <th>pred3</th>\n",
              "    </tr>\n",
              "  </thead>\n",
              "  <tbody>\n",
              "    <tr>\n",
              "      <th>0</th>\n",
              "      <td>20220107</td>\n",
              "      <td>1</td>\n",
              "      <td>6-5</td>\n",
              "      <td>6-4</td>\n",
              "      <td>4-5</td>\n",
              "    </tr>\n",
              "    <tr>\n",
              "      <th>8</th>\n",
              "      <td>20220107</td>\n",
              "      <td>2</td>\n",
              "      <td>6-1</td>\n",
              "      <td>6-3</td>\n",
              "      <td>3-1</td>\n",
              "    </tr>\n",
              "    <tr>\n",
              "      <th>16</th>\n",
              "      <td>20220107</td>\n",
              "      <td>3</td>\n",
              "      <td>5-12</td>\n",
              "      <td>5-7</td>\n",
              "      <td>7-12</td>\n",
              "    </tr>\n",
              "    <tr>\n",
              "      <th>24</th>\n",
              "      <td>20220107</td>\n",
              "      <td>4</td>\n",
              "      <td>7-2</td>\n",
              "      <td>7-4</td>\n",
              "      <td>4-2</td>\n",
              "    </tr>\n",
              "    <tr>\n",
              "      <th>32</th>\n",
              "      <td>20220107</td>\n",
              "      <td>5</td>\n",
              "      <td>1-9</td>\n",
              "      <td>1-4</td>\n",
              "      <td>4-9</td>\n",
              "    </tr>\n",
              "    <tr>\n",
              "      <th>40</th>\n",
              "      <td>20220107</td>\n",
              "      <td>6</td>\n",
              "      <td>11-7</td>\n",
              "      <td>11-3</td>\n",
              "      <td>3-7</td>\n",
              "    </tr>\n",
              "    <tr>\n",
              "      <th>48</th>\n",
              "      <td>20220107</td>\n",
              "      <td>7</td>\n",
              "      <td>1-9</td>\n",
              "      <td>1-10</td>\n",
              "      <td>10-9</td>\n",
              "    </tr>\n",
              "    <tr>\n",
              "      <th>52</th>\n",
              "      <td>20220107</td>\n",
              "      <td>8</td>\n",
              "      <td>4-6</td>\n",
              "      <td>4-2</td>\n",
              "      <td>2-6</td>\n",
              "    </tr>\n",
              "    <tr>\n",
              "      <th>1</th>\n",
              "      <td>20220109</td>\n",
              "      <td>1</td>\n",
              "      <td>2-3</td>\n",
              "      <td>2-9</td>\n",
              "      <td>9-3</td>\n",
              "    </tr>\n",
              "    <tr>\n",
              "      <th>9</th>\n",
              "      <td>20220109</td>\n",
              "      <td>2</td>\n",
              "      <td>8-9</td>\n",
              "      <td>8-1</td>\n",
              "      <td>1-9</td>\n",
              "    </tr>\n",
              "    <tr>\n",
              "      <th>17</th>\n",
              "      <td>20220109</td>\n",
              "      <td>3</td>\n",
              "      <td>6-7</td>\n",
              "      <td>6-10</td>\n",
              "      <td>10-7</td>\n",
              "    </tr>\n",
              "    <tr>\n",
              "      <th>25</th>\n",
              "      <td>20220109</td>\n",
              "      <td>4</td>\n",
              "      <td>5-4</td>\n",
              "      <td>5-2</td>\n",
              "      <td>2-4</td>\n",
              "    </tr>\n",
              "    <tr>\n",
              "      <th>33</th>\n",
              "      <td>20220109</td>\n",
              "      <td>5</td>\n",
              "      <td>2-9</td>\n",
              "      <td>2-1</td>\n",
              "      <td>1-9</td>\n",
              "    </tr>\n",
              "    <tr>\n",
              "      <th>41</th>\n",
              "      <td>20220109</td>\n",
              "      <td>6</td>\n",
              "      <td>7-14</td>\n",
              "      <td>7-3</td>\n",
              "      <td>3-14</td>\n",
              "    </tr>\n",
              "    <tr>\n",
              "      <th>2</th>\n",
              "      <td>20220114</td>\n",
              "      <td>1</td>\n",
              "      <td>2-7</td>\n",
              "      <td>2-8</td>\n",
              "      <td>8-7</td>\n",
              "    </tr>\n",
              "    <tr>\n",
              "      <th>10</th>\n",
              "      <td>20220114</td>\n",
              "      <td>2</td>\n",
              "      <td>6-2</td>\n",
              "      <td>6-4</td>\n",
              "      <td>4-2</td>\n",
              "    </tr>\n",
              "    <tr>\n",
              "      <th>18</th>\n",
              "      <td>20220114</td>\n",
              "      <td>3</td>\n",
              "      <td>2-3</td>\n",
              "      <td>2-4</td>\n",
              "      <td>4-3</td>\n",
              "    </tr>\n",
              "    <tr>\n",
              "      <th>26</th>\n",
              "      <td>20220114</td>\n",
              "      <td>4</td>\n",
              "      <td>9-10</td>\n",
              "      <td>9-4</td>\n",
              "      <td>4-10</td>\n",
              "    </tr>\n",
              "    <tr>\n",
              "      <th>34</th>\n",
              "      <td>20220114</td>\n",
              "      <td>5</td>\n",
              "      <td>5-9</td>\n",
              "      <td>5-6</td>\n",
              "      <td>6-9</td>\n",
              "    </tr>\n",
              "    <tr>\n",
              "      <th>42</th>\n",
              "      <td>20220114</td>\n",
              "      <td>6</td>\n",
              "      <td>4-3</td>\n",
              "      <td>4-8</td>\n",
              "      <td>8-3</td>\n",
              "    </tr>\n",
              "    <tr>\n",
              "      <th>49</th>\n",
              "      <td>20220114</td>\n",
              "      <td>7</td>\n",
              "      <td>2-7</td>\n",
              "      <td>2-6</td>\n",
              "      <td>6-7</td>\n",
              "    </tr>\n",
              "    <tr>\n",
              "      <th>53</th>\n",
              "      <td>20220114</td>\n",
              "      <td>8</td>\n",
              "      <td>10-1</td>\n",
              "      <td>10-3</td>\n",
              "      <td>3-1</td>\n",
              "    </tr>\n",
              "    <tr>\n",
              "      <th>3</th>\n",
              "      <td>20220116</td>\n",
              "      <td>1</td>\n",
              "      <td>11-12</td>\n",
              "      <td>11-5</td>\n",
              "      <td>5-12</td>\n",
              "    </tr>\n",
              "    <tr>\n",
              "      <th>11</th>\n",
              "      <td>20220116</td>\n",
              "      <td>2</td>\n",
              "      <td>5-2</td>\n",
              "      <td>5-1</td>\n",
              "      <td>1-2</td>\n",
              "    </tr>\n",
              "    <tr>\n",
              "      <th>19</th>\n",
              "      <td>20220116</td>\n",
              "      <td>3</td>\n",
              "      <td>3-1</td>\n",
              "      <td>3-2</td>\n",
              "      <td>2-1</td>\n",
              "    </tr>\n",
              "    <tr>\n",
              "      <th>27</th>\n",
              "      <td>20220116</td>\n",
              "      <td>4</td>\n",
              "      <td>1-8</td>\n",
              "      <td>1-7</td>\n",
              "      <td>7-8</td>\n",
              "    </tr>\n",
              "    <tr>\n",
              "      <th>35</th>\n",
              "      <td>20220116</td>\n",
              "      <td>5</td>\n",
              "      <td>5-7</td>\n",
              "      <td>5-4</td>\n",
              "      <td>4-7</td>\n",
              "    </tr>\n",
              "    <tr>\n",
              "      <th>43</th>\n",
              "      <td>20220116</td>\n",
              "      <td>6</td>\n",
              "      <td>11-6</td>\n",
              "      <td>11-5</td>\n",
              "      <td>5-6</td>\n",
              "    </tr>\n",
              "    <tr>\n",
              "      <th>4</th>\n",
              "      <td>20220121</td>\n",
              "      <td>1</td>\n",
              "      <td>5-3</td>\n",
              "      <td>5-1</td>\n",
              "      <td>1-3</td>\n",
              "    </tr>\n",
              "    <tr>\n",
              "      <th>12</th>\n",
              "      <td>20220121</td>\n",
              "      <td>2</td>\n",
              "      <td>6-4</td>\n",
              "      <td>6-14</td>\n",
              "      <td>14-4</td>\n",
              "    </tr>\n",
              "    <tr>\n",
              "      <th>20</th>\n",
              "      <td>20220121</td>\n",
              "      <td>3</td>\n",
              "      <td>2-11</td>\n",
              "      <td>2-1</td>\n",
              "      <td>1-11</td>\n",
              "    </tr>\n",
              "    <tr>\n",
              "      <th>28</th>\n",
              "      <td>20220121</td>\n",
              "      <td>4</td>\n",
              "      <td>6-9</td>\n",
              "      <td>6-2</td>\n",
              "      <td>2-9</td>\n",
              "    </tr>\n",
              "    <tr>\n",
              "      <th>36</th>\n",
              "      <td>20220121</td>\n",
              "      <td>5</td>\n",
              "      <td>3-13</td>\n",
              "      <td>3-8</td>\n",
              "      <td>8-13</td>\n",
              "    </tr>\n",
              "    <tr>\n",
              "      <th>44</th>\n",
              "      <td>20220121</td>\n",
              "      <td>6</td>\n",
              "      <td>10-1</td>\n",
              "      <td>10-8</td>\n",
              "      <td>8-1</td>\n",
              "    </tr>\n",
              "    <tr>\n",
              "      <th>50</th>\n",
              "      <td>20220121</td>\n",
              "      <td>7</td>\n",
              "      <td>6-8</td>\n",
              "      <td>6-4</td>\n",
              "      <td>4-8</td>\n",
              "    </tr>\n",
              "    <tr>\n",
              "      <th>54</th>\n",
              "      <td>20220121</td>\n",
              "      <td>8</td>\n",
              "      <td>9-5</td>\n",
              "      <td>9-4</td>\n",
              "      <td>4-5</td>\n",
              "    </tr>\n",
              "    <tr>\n",
              "      <th>5</th>\n",
              "      <td>20220123</td>\n",
              "      <td>1</td>\n",
              "      <td>1-5</td>\n",
              "      <td>1-2</td>\n",
              "      <td>2-5</td>\n",
              "    </tr>\n",
              "    <tr>\n",
              "      <th>13</th>\n",
              "      <td>20220123</td>\n",
              "      <td>2</td>\n",
              "      <td>12-13</td>\n",
              "      <td>12-4</td>\n",
              "      <td>4-13</td>\n",
              "    </tr>\n",
              "    <tr>\n",
              "      <th>21</th>\n",
              "      <td>20220123</td>\n",
              "      <td>3</td>\n",
              "      <td>2-6</td>\n",
              "      <td>2-1</td>\n",
              "      <td>1-6</td>\n",
              "    </tr>\n",
              "    <tr>\n",
              "      <th>29</th>\n",
              "      <td>20220123</td>\n",
              "      <td>4</td>\n",
              "      <td>2-7</td>\n",
              "      <td>2-1</td>\n",
              "      <td>1-7</td>\n",
              "    </tr>\n",
              "    <tr>\n",
              "      <th>37</th>\n",
              "      <td>20220123</td>\n",
              "      <td>5</td>\n",
              "      <td>9-14</td>\n",
              "      <td>9-5</td>\n",
              "      <td>5-14</td>\n",
              "    </tr>\n",
              "    <tr>\n",
              "      <th>45</th>\n",
              "      <td>20220123</td>\n",
              "      <td>6</td>\n",
              "      <td>5-6</td>\n",
              "      <td>5-4</td>\n",
              "      <td>4-6</td>\n",
              "    </tr>\n",
              "    <tr>\n",
              "      <th>6</th>\n",
              "      <td>20220128</td>\n",
              "      <td>1</td>\n",
              "      <td>8-2</td>\n",
              "      <td>8-12</td>\n",
              "      <td>12-2</td>\n",
              "    </tr>\n",
              "    <tr>\n",
              "      <th>14</th>\n",
              "      <td>20220128</td>\n",
              "      <td>2</td>\n",
              "      <td>8-1</td>\n",
              "      <td>8-3</td>\n",
              "      <td>3-1</td>\n",
              "    </tr>\n",
              "    <tr>\n",
              "      <th>22</th>\n",
              "      <td>20220128</td>\n",
              "      <td>3</td>\n",
              "      <td>1-8</td>\n",
              "      <td>1-4</td>\n",
              "      <td>4-8</td>\n",
              "    </tr>\n",
              "    <tr>\n",
              "      <th>30</th>\n",
              "      <td>20220128</td>\n",
              "      <td>4</td>\n",
              "      <td>9-7</td>\n",
              "      <td>9-1</td>\n",
              "      <td>1-7</td>\n",
              "    </tr>\n",
              "    <tr>\n",
              "      <th>38</th>\n",
              "      <td>20220128</td>\n",
              "      <td>5</td>\n",
              "      <td>3-6</td>\n",
              "      <td>3-4</td>\n",
              "      <td>4-6</td>\n",
              "    </tr>\n",
              "    <tr>\n",
              "      <th>46</th>\n",
              "      <td>20220128</td>\n",
              "      <td>6</td>\n",
              "      <td>8-10</td>\n",
              "      <td>8-4</td>\n",
              "      <td>4-10</td>\n",
              "    </tr>\n",
              "    <tr>\n",
              "      <th>51</th>\n",
              "      <td>20220128</td>\n",
              "      <td>7</td>\n",
              "      <td>2-1</td>\n",
              "      <td>2-3</td>\n",
              "      <td>3-1</td>\n",
              "    </tr>\n",
              "    <tr>\n",
              "      <th>55</th>\n",
              "      <td>20220128</td>\n",
              "      <td>8</td>\n",
              "      <td>4-2</td>\n",
              "      <td>4-7</td>\n",
              "      <td>7-2</td>\n",
              "    </tr>\n",
              "    <tr>\n",
              "      <th>7</th>\n",
              "      <td>20220130</td>\n",
              "      <td>1</td>\n",
              "      <td>7-12</td>\n",
              "      <td>7-5</td>\n",
              "      <td>5-12</td>\n",
              "    </tr>\n",
              "    <tr>\n",
              "      <th>15</th>\n",
              "      <td>20220130</td>\n",
              "      <td>2</td>\n",
              "      <td>6-3</td>\n",
              "      <td>6-10</td>\n",
              "      <td>10-3</td>\n",
              "    </tr>\n",
              "    <tr>\n",
              "      <th>23</th>\n",
              "      <td>20220130</td>\n",
              "      <td>3</td>\n",
              "      <td>6-10</td>\n",
              "      <td>6-1</td>\n",
              "      <td>1-10</td>\n",
              "    </tr>\n",
              "    <tr>\n",
              "      <th>31</th>\n",
              "      <td>20220130</td>\n",
              "      <td>4</td>\n",
              "      <td>4-9</td>\n",
              "      <td>4-8</td>\n",
              "      <td>8-9</td>\n",
              "    </tr>\n",
              "    <tr>\n",
              "      <th>39</th>\n",
              "      <td>20220130</td>\n",
              "      <td>5</td>\n",
              "      <td>8-3</td>\n",
              "      <td>8-4</td>\n",
              "      <td>4-3</td>\n",
              "    </tr>\n",
              "    <tr>\n",
              "      <th>47</th>\n",
              "      <td>20220130</td>\n",
              "      <td>6</td>\n",
              "      <td>2-1</td>\n",
              "      <td>2-3</td>\n",
              "      <td>3-1</td>\n",
              "    </tr>\n",
              "  </tbody>\n",
              "</table>\n",
              "</div>\n",
              "      <button class=\"colab-df-convert\" onclick=\"convertToInteractive('df-5651a065-85e1-429b-bf50-deb469589557')\"\n",
              "              title=\"Convert this dataframe to an interactive table.\"\n",
              "              style=\"display:none;\">\n",
              "        \n",
              "  <svg xmlns=\"http://www.w3.org/2000/svg\" height=\"24px\"viewBox=\"0 0 24 24\"\n",
              "       width=\"24px\">\n",
              "    <path d=\"M0 0h24v24H0V0z\" fill=\"none\"/>\n",
              "    <path d=\"M18.56 5.44l.94 2.06.94-2.06 2.06-.94-2.06-.94-.94-2.06-.94 2.06-2.06.94zm-11 1L8.5 8.5l.94-2.06 2.06-.94-2.06-.94L8.5 2.5l-.94 2.06-2.06.94zm10 10l.94 2.06.94-2.06 2.06-.94-2.06-.94-.94-2.06-.94 2.06-2.06.94z\"/><path d=\"M17.41 7.96l-1.37-1.37c-.4-.4-.92-.59-1.43-.59-.52 0-1.04.2-1.43.59L10.3 9.45l-7.72 7.72c-.78.78-.78 2.05 0 2.83L4 21.41c.39.39.9.59 1.41.59.51 0 1.02-.2 1.41-.59l7.78-7.78 2.81-2.81c.8-.78.8-2.07 0-2.86zM5.41 20L4 18.59l7.72-7.72 1.47 1.35L5.41 20z\"/>\n",
              "  </svg>\n",
              "      </button>\n",
              "      \n",
              "  <style>\n",
              "    .colab-df-container {\n",
              "      display:flex;\n",
              "      flex-wrap:wrap;\n",
              "      gap: 12px;\n",
              "    }\n",
              "\n",
              "    .colab-df-convert {\n",
              "      background-color: #E8F0FE;\n",
              "      border: none;\n",
              "      border-radius: 50%;\n",
              "      cursor: pointer;\n",
              "      display: none;\n",
              "      fill: #1967D2;\n",
              "      height: 32px;\n",
              "      padding: 0 0 0 0;\n",
              "      width: 32px;\n",
              "    }\n",
              "\n",
              "    .colab-df-convert:hover {\n",
              "      background-color: #E2EBFA;\n",
              "      box-shadow: 0px 1px 2px rgba(60, 64, 67, 0.3), 0px 1px 3px 1px rgba(60, 64, 67, 0.15);\n",
              "      fill: #174EA6;\n",
              "    }\n",
              "\n",
              "    [theme=dark] .colab-df-convert {\n",
              "      background-color: #3B4455;\n",
              "      fill: #D2E3FC;\n",
              "    }\n",
              "\n",
              "    [theme=dark] .colab-df-convert:hover {\n",
              "      background-color: #434B5C;\n",
              "      box-shadow: 0px 1px 3px 1px rgba(0, 0, 0, 0.15);\n",
              "      filter: drop-shadow(0px 1px 2px rgba(0, 0, 0, 0.3));\n",
              "      fill: #FFFFFF;\n",
              "    }\n",
              "  </style>\n",
              "\n",
              "      <script>\n",
              "        const buttonEl =\n",
              "          document.querySelector('#df-5651a065-85e1-429b-bf50-deb469589557 button.colab-df-convert');\n",
              "        buttonEl.style.display =\n",
              "          google.colab.kernel.accessAllowed ? 'block' : 'none';\n",
              "\n",
              "        async function convertToInteractive(key) {\n",
              "          const element = document.querySelector('#df-5651a065-85e1-429b-bf50-deb469589557');\n",
              "          const dataTable =\n",
              "            await google.colab.kernel.invokeFunction('convertToInteractive',\n",
              "                                                     [key], {});\n",
              "          if (!dataTable) return;\n",
              "\n",
              "          const docLinkHtml = 'Like what you see? Visit the ' +\n",
              "            '<a target=\"_blank\" href=https://colab.research.google.com/notebooks/data_table.ipynb>data table notebook</a>'\n",
              "            + ' to learn more about interactive tables.';\n",
              "          element.innerHTML = '';\n",
              "          dataTable['output_type'] = 'display_data';\n",
              "          await google.colab.output.renderOutput(dataTable, element);\n",
              "          const docLink = document.createElement('div');\n",
              "          docLink.innerHTML = docLinkHtml;\n",
              "          element.appendChild(docLink);\n",
              "        }\n",
              "      </script>\n",
              "    </div>\n",
              "  </div>\n",
              "  "
            ]
          },
          "metadata": {},
          "execution_count": 394
        }
      ]
    },
    {
      "cell_type": "code",
      "source": [
        "z.to_csv('/content/Result.csv', index=False)"
      ],
      "metadata": {
        "id": "7PSxJpBqJqr-"
      },
      "execution_count": 388,
      "outputs": []
    }
  ]
}